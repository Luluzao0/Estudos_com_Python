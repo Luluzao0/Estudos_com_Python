{
  "nbformat": 4,
  "nbformat_minor": 0,
  "metadata": {
    "colab": {
      "provenance": [],
      "authorship_tag": "ABX9TyPEZs9fPFJHGh3+ypj7E9x+",
      "include_colab_link": true
    },
    "kernelspec": {
      "name": "python3",
      "display_name": "Python 3"
    },
    "language_info": {
      "name": "python"
    }
  },
  "cells": [
    {
      "cell_type": "markdown",
      "metadata": {
        "id": "view-in-github",
        "colab_type": "text"
      },
      "source": [
        "<a href=\"https://colab.research.google.com/github/Luluzao0/Estudos_com_Python/blob/main/Estudos_de_Python.ipynb\" target=\"_parent\"><img src=\"https://colab.research.google.com/assets/colab-badge.svg\" alt=\"Open In Colab\"/></a>"
      ]
    },
    {
      "cell_type": "markdown",
      "source": [
        "# Estudo de python Váriaveis e o comando de atribuição:"
      ],
      "metadata": {
        "id": "cF7pJwwvS4eb"
      }
    },
    {
      "cell_type": "code",
      "execution_count": null,
      "metadata": {
        "colab": {
          "base_uri": "https://localhost:8080/"
        },
        "id": "F5fiCO1RS0Hg",
        "outputId": "d48f26ef-f2c8-4165-fb81-d9773d5f8d14"
      },
      "outputs": [
        {
          "output_type": "stream",
          "name": "stdout",
          "text": [
            "aprendendo python\n",
            "vamos aprender python\n",
            "Isso é uma string com \"aspas duplas\".\n",
            "Isso é uma string com 'aspas simples'.\n",
            "o tipo de c é:  <class 'int'>\n",
            "o tipo de d é:  <class 'float'>\n",
            "o tipo de e é:  <class 'bool'>\n",
            "o tipo de f é:  <class 'float'>\n",
            "LuisGuilherme\n",
            "Luis Guilherme\n",
            "LuisGuilhermeLuisGuilhermeLuisGuilherme\n",
            "8\n",
            "2\n",
            "3\n",
            "2 3 4\n",
            "234\n",
            "2-*-3-*-4\n",
            "primeira linha\n",
            "segunda linha\n"
          ]
        }
      ],
      "source": [
        "# variavel = expressao\n",
        "\n",
        "# nomes das variaveis:\n",
        "\n",
        "# contador, ind, i, j, a1, r2d2, bb8\n",
        "# pode-se abreviar também: cont, aux.\n",
        "# conta_pares e conta_impares\n",
        "# MAXIMO_TAMANHO = 100\n",
        "\n",
        "# algumas palavras reservadas: if, while, print(), def\n",
        "\n",
        "# igualdade = | atribui valor ou cria variavel\n",
        "# operador de igualdade == | retorna apenas True ou False\n",
        "\n",
        "\n",
        "primeira_frase_em_python = 'aprendendo python'\n",
        "segunda_frase_em_python = \"vamos aprender python\"\n",
        "print(primeira_frase_em_python)\n",
        "print(segunda_frase_em_python)\n",
        "\n",
        "type(primeira_frase_em_python)\n",
        "type(segunda_frase_em_python)\n",
        "\n",
        "\n",
        "a = 'Isso é uma string com \"aspas duplas\".'\n",
        "b = \"Isso é uma string com 'aspas simples'.\"\n",
        "\n",
        "print(a)\n",
        "print(b)\n",
        "\n",
        "\n",
        "c = 3\n",
        "d = 3.14\n",
        "e = True\n",
        "f = 2.5\n",
        "\n",
        "tipo1 = type(c)\n",
        "tipo2 = type(d)\n",
        "tipo3 = type(e)\n",
        "tipo4 = type(f)\n",
        "\n",
        "print(\"o tipo de c é: \", tipo1)\n",
        "print(\"o tipo de d é: \", tipo2)\n",
        "print(\"o tipo de e é: \", tipo3)\n",
        "print(\"o tipo de f é: \", tipo4)\n",
        "\n",
        "\n",
        "l = \"Luis\"\n",
        "g = \"Guilherme\"\n",
        "print(l + g)\n",
        "nome = l + ' ' + g\n",
        "print(nome)\n",
        "\n",
        "print((l+g) * 3)\n",
        "\n",
        "multip = 4 * 2\n",
        "print(multip)\n",
        "divis = int(4 / 2)\n",
        "print(divis)\n",
        "mod = 7 // 2\n",
        "print(mod)\n",
        "\n",
        "\n",
        "print(2,3,4, sep=' ')\n",
        "print(2,3,4, sep='')\n",
        "print(2,3,4, sep='-*-')\n",
        "\n",
        "print('primeira', 'linha', end='\\n')\n",
        "print('segunda', 'linha', end='\\n')\n",
        "\n",
        "print('primeira', 'linha', end=' <<>> ')   # string sem pula linha\n",
        "print('segunda', 'linha')\n",
        "\n",
        "print('primeira', 'linha', sep='**', end=' <<>> ')\n",
        "print('segunda', 'linha', sep='%%', end='<<FIM>>')\n",
        "\n"
      ]
    },
    {
      "cell_type": "markdown",
      "source": [
        "---------------------------------------------------------------------------"
      ],
      "metadata": {
        "id": "pfqvmIABlm_C"
      }
    },
    {
      "cell_type": "markdown",
      "source": [
        "Ex. 1: ler dois inteiros e imprimir sua soma\n"
      ],
      "metadata": {
        "id": "Pzjb_Ex2leNp"
      }
    },
    {
      "cell_type": "code",
      "source": [
        "a = input(\"informe o valor do numero a:\")\n",
        "b = input(\"informe o valro do numero b:\")\n",
        "\n",
        "#podia tbm ser int(input) ou soma = int(a + b)\n",
        "soma = int(a) + int(b)\n",
        "print(\"o valor da soma é: \",soma)"
      ],
      "metadata": {
        "colab": {
          "base_uri": "https://localhost:8080/"
        },
        "id": "dALyA1MFllgw",
        "outputId": "52541909-3976-4ab1-d85e-5d4fc463f771"
      },
      "execution_count": null,
      "outputs": [
        {
          "output_type": "stream",
          "name": "stdout",
          "text": [
            "informe o valor do numero a:10\n",
            "informe o valro do numero b:2\n",
            "o valor da soma é:  12\n"
          ]
        }
      ]
    },
    {
      "cell_type": "markdown",
      "source": [
        "**Usando Operadores Aritmeticos:**"
      ],
      "metadata": {
        "id": "_EpWbnSaAHgt"
      }
    },
    {
      "cell_type": "code",
      "source": [
        "\"\"\"\n",
        "associatividade e precedencia: qual operador é calculado primeiro?\n",
        "\n",
        "() esq -> direita\n",
        "** direita -> esq\n",
        "+,- direita -> esq (positivo e negativo unario)\n",
        "*,/,//, % esq -> direita\n",
        "+,- esq -> direita\n",
        "\"\"\"\n",
        "\n",
        "\n",
        "a = 12 / 2 / 3 / 4\n",
        "print(a)\n",
        "\n",
        "b = -+-+3\n",
        "print(b)\n",
        "\n",
        "c = 12 * 2 % 10\n",
        "print(c)\n",
        "\n",
        "d = 4 * 3 ** 2 // 10\n",
        "print(d)\n",
        "\n",
        "e = 2 ** 3 ** 2\n",
        "print(e)\n",
        "\n",
        "f = -2 ** 4\n",
        "print(f)\n",
        "\n",
        "\n",
        "\n",
        "\"\"\"\n",
        "\n",
        "Expressões relacionais: ==, !=, >, >=, <, <=\n",
        "\n",
        "\"\"\"\n",
        "\n",
        "g = 2 == 3\n",
        "print(g)\n",
        "h = 2 != 3\n",
        "print(h)\n",
        "i = 3 > 3\n",
        "print(i)\n",
        "j = 3 >= 3\n",
        "print(j)\n",
        "k = 2 < 3\n",
        "print(k)\n",
        "l = 4 <= 3\n",
        "print(l)\n",
        "\n",
        "\n",
        "m = 2 + 3 == 3 + 2 * 1 # 5 é igual a 5? True\n",
        "print(m)\n",
        "\n",
        "\n",
        "\"\"\"\n",
        "\n",
        "Expressões Lógicas: not, and, or\n",
        "\n",
        "\"\"\"\n",
        "\n",
        "\n",
        "x = True\n",
        "y = False\n",
        "\n",
        "print(x and y)\n",
        "\n",
        "print(x or y)\n",
        "\n",
        "print(not(x), not(y))\n",
        "\n",
        "\n",
        "\n",
        "\"\"\"\n",
        "\n",
        "Intervalos\n",
        "\n",
        "\"\"\"\n",
        "\n",
        "# supondo que o intervalo é [a,b]\n",
        "a = -1\n",
        "b = 1\n",
        "x = 0\n",
        "\n",
        "print(a <= x <= b)"
      ],
      "metadata": {
        "colab": {
          "base_uri": "https://localhost:8080/"
        },
        "id": "RbR14HjZAMX6",
        "outputId": "6416d561-4058-40e0-ba4c-12480471f5c9"
      },
      "execution_count": null,
      "outputs": [
        {
          "output_type": "stream",
          "name": "stdout",
          "text": [
            "0.5\n",
            "3\n",
            "4\n",
            "3\n",
            "512\n",
            "-16\n",
            "False\n",
            "True\n",
            "False\n",
            "True\n",
            "True\n",
            "False\n",
            "True\n",
            "False\n",
            "True\n",
            "False True\n",
            "True\n"
          ]
        }
      ]
    },
    {
      "cell_type": "markdown",
      "source": [
        "Ex. 2 - Escreva um expressão em função de uma incógnita nota que resulte em True caso nota esteja no intervalo aberto (3.0, 5.0), e resulte em False caso contrário.\n",
        "\n"
      ],
      "metadata": {
        "id": "2pX1PYGN_InV"
      }
    },
    {
      "cell_type": "code",
      "source": [
        "i = 3.0\n",
        "j = 5.0\n",
        "x = float(input(\"Informe sua nota: \"))\n",
        "\n",
        "print(x)\n",
        "print(i <= x <= j)\n"
      ],
      "metadata": {
        "colab": {
          "base_uri": "https://localhost:8080/"
        },
        "id": "O5wIVo0C_aIT",
        "outputId": "e6744ccc-90d1-4b98-c3cd-1d721494bc35"
      },
      "execution_count": null,
      "outputs": [
        {
          "output_type": "stream",
          "name": "stdout",
          "text": [
            "Informe sua nota: 5\n",
            "5.0\n",
            "True\n"
          ]
        }
      ]
    },
    {
      "cell_type": "markdown",
      "source": [
        "Ex. 3 - Um ano bissexto ocorre aproximadamente a cada 4 anos. Escreva uma expressão (em função de uma incógnita ano) que resulte em True caso ano seja bissexto e False caso contrário. Para ser bissexto, o valor de ano precisa ser múltiplo de 4, exceto múltiplos de 100 que não são múltiplos de 400. Assim o ano de 2020 é bissexto pois satisfaz todas essas condições."
      ],
      "metadata": {
        "id": "90FG5VwWGxzx"
      }
    },
    {
      "cell_type": "code",
      "source": [
        "ano_bissexto = int(input(\"Informe o ano que deseja saber se é bissexto: \"))\n",
        "\n",
        "if (ano_bissexto % 4 == 0 and (ano_bissexto % 100 != 0 or ano_bissexto % 400 == 0)):\n",
        "    print(ano_bissexto, \"é um ano bissexto\")\n",
        "else:\n",
        "    print(ano_bissexto, \"não é um ano bissexto\")\n"
      ],
      "metadata": {
        "colab": {
          "base_uri": "https://localhost:8080/"
        },
        "id": "EDetd7lcG4SX",
        "outputId": "bd236804-2d60-43a6-9417-ae97415eb13b"
      },
      "execution_count": null,
      "outputs": [
        {
          "output_type": "stream",
          "name": "stdout",
          "text": [
            "Informe o ano que deseja saber se é bissexto: 2020\n",
            "2020 é um ano bissexto\n"
          ]
        }
      ]
    },
    {
      "cell_type": "markdown",
      "source": [
        "# **Comandos de Repetição:**"
      ],
      "metadata": {
        "id": "joDOMGxhJP3b"
      }
    },
    {
      "cell_type": "code",
      "source": [
        "# While\n",
        "\"\"\"\n",
        "\n",
        "* inicializar as variáveis de controle antes do comando;\n",
        "\n",
        "* criar uma condição que usa a variável de controle e se mantenha verdadeira pelo número correto de iterações;\n",
        "\n",
        "* modificar a variável de controle para garantir a terminação;\n",
        "\n",
        "* realizar as computações sucessivas para se chegar a resposta correta.\n",
        "\n",
        "while condição:\n",
        "  comando_1\n",
        "  comando_2\n",
        "  .\n",
        "  .\n",
        "  .\n",
        "  comando_n\n",
        "\"\"\"\n",
        "\n",
        "#Exemplo\n",
        "fim = 10\n",
        "cont = 0 # variavel de controle\n",
        "while cont < fim:\n",
        "  print(\"iteração numero: \", cont)\n",
        "  cont = cont + 1\n",
        "\n"
      ],
      "metadata": {
        "colab": {
          "base_uri": "https://localhost:8080/"
        },
        "id": "zdk4fRGbHgNz",
        "outputId": "31749fdc-e2eb-4eeb-e4bc-fc176dd7cf9e"
      },
      "execution_count": null,
      "outputs": [
        {
          "output_type": "stream",
          "name": "stdout",
          "text": [
            "iteração numero:  0\n",
            "iteração numero:  1\n",
            "iteração numero:  2\n",
            "iteração numero:  3\n",
            "iteração numero:  4\n",
            "iteração numero:  5\n",
            "iteração numero:  6\n",
            "iteração numero:  7\n",
            "iteração numero:  8\n",
            "iteração numero:  9\n"
          ]
        }
      ]
    },
    {
      "cell_type": "markdown",
      "source": [
        "Ex. 4 - Dada uma sequência de números inteiros diferentes de zero, terminada por um zero, calcular a sua soma. Por exemplo, para a sequência:\n",
        "\n",
        "12   17   4   -6   8   0"
      ],
      "metadata": {
        "id": "RDqLKJ6wLZgD"
      }
    },
    {
      "cell_type": "code",
      "source": [
        "def main():\n",
        "  num = int(input(\"Digite um inteiro [0 para terminar]: \"))\n",
        "  soma = 0\n",
        "\n",
        "  while num != 0:\n",
        "    soma = soma + num\n",
        "    num = int(input(\"Digite um inteiro [0 para terminar]: \"))\n",
        "\n",
        "  print(\"a soma foi: \", soma)\n",
        "main()\n"
      ],
      "metadata": {
        "colab": {
          "base_uri": "https://localhost:8080/"
        },
        "id": "ZUJlt7QJLeUy",
        "outputId": "aa9b91ab-3311-4908-fab5-20719dbfdb30"
      },
      "execution_count": null,
      "outputs": [
        {
          "output_type": "stream",
          "name": "stdout",
          "text": [
            "Digite um inteiro [0 para terminar]: 12\n",
            "Digite um inteiro [0 para terminar]: 17\n",
            "Digite um inteiro [0 para terminar]: 4\n",
            "Digite um inteiro [0 para terminar]: -6\n",
            "Digite um inteiro [0 para terminar]: 8\n",
            "Digite um inteiro [0 para terminar]: 0\n",
            "a soma foi:  35\n"
          ]
        }
      ]
    },
    {
      "cell_type": "markdown",
      "source": [
        "Ex. 5 - Dados números inteiros n e k, com k >= 0, calcular n elevado a k. Por exemplo, dados os números 3 e 4 o seu programa deve escrever o número 81."
      ],
      "metadata": {
        "id": "cY1rwyigMnSi"
      }
    },
    {
      "cell_type": "code",
      "source": [
        "def main():\n",
        "  n = int(input(\"informe o numero que vc deseja elevar: \"))\n",
        "  k = int(input(\"informe o numero da potencia: \"))\n",
        "\n",
        "  pot = 1\n",
        "  i = 0\n",
        "  while i < k:\n",
        "    pot = pot * n\n",
        "    i = i + 1\n",
        "\n",
        "\n",
        "  print(\"O valor de %d elevado a %d eh %d\" %(n, k, pot))\n",
        "\n",
        "main()"
      ],
      "metadata": {
        "colab": {
          "base_uri": "https://localhost:8080/"
        },
        "id": "3nPt-qwFMref",
        "outputId": "873e2988-97cf-48f9-f9aa-27460e8125a0"
      },
      "execution_count": null,
      "outputs": [
        {
          "output_type": "stream",
          "name": "stdout",
          "text": [
            "informe o numero que vc deseja elevar: 2\n",
            "informe o numero da potencia: 10\n",
            "O valor de 2 elevado a 10 eh 1024\n"
          ]
        }
      ]
    },
    {
      "cell_type": "markdown",
      "source": [
        "Ex. 6 - Dado um número inteiro n >= 0, calcular n!."
      ],
      "metadata": {
        "id": "LJFQJAnFQa3k"
      }
    },
    {
      "cell_type": "code",
      "source": [
        "def main():\n",
        "  n = int(input(\"informe o inteiro: \"))\n",
        "\n",
        "  fat = 1\n",
        "  i = 2\n",
        "  while i <= n:\n",
        "    fat = fat * i\n",
        "    i = i + 1\n",
        "\n",
        "  print(\"o valor de %d! é =\" %n, fat) # um exemplo de print mais elaborado que o comum\n",
        "main()\n"
      ],
      "metadata": {
        "colab": {
          "base_uri": "https://localhost:8080/"
        },
        "id": "0IYpFUErQfOb",
        "outputId": "d928e214-5f8d-4434-d758-9649f00ca01e"
      },
      "execution_count": null,
      "outputs": [
        {
          "output_type": "stream",
          "name": "stdout",
          "text": [
            "informe o inteiro: 50\n",
            "o valor de 50! é = 30414093201713378043612608166064768844377641568960512000000000000\n"
          ]
        }
      ]
    },
    {
      "cell_type": "markdown",
      "source": [
        "Ex. 7 - Dados dois inteiros positivos calcular o máximo divisor comum entre eles usando o algoritmo de Euclides.\n",
        "\n"
      ],
      "metadata": {
        "id": "KuPBV-4WWZz_"
      }
    },
    {
      "cell_type": "code",
      "source": [
        "#como funciona o algoritmo de euclides:\n",
        "\n",
        "\"\"\"\n",
        "MDC(a,b) = MDC(b,r)\n",
        "\n",
        "onde r é o resto da divisão de a por b\n",
        "\n",
        "r = a - bq, q = a / b\n",
        "\n",
        "\"\"\"\n",
        "\n",
        "def main():\n",
        "    a = int(input(\"Informe o primeiro inteiro da divisão: \"))\n",
        "    b = int(input(\"Informe o segundo inteiro da divisão: \"))\n",
        "\n",
        "    while b != 0:\n",
        "        r = a % b\n",
        "        a = b\n",
        "        b = r\n",
        "\n",
        "    mdc = a\n",
        "    print(\"MDC:\", mdc)\n",
        "\n",
        "main()\n"
      ],
      "metadata": {
        "colab": {
          "base_uri": "https://localhost:8080/"
        },
        "id": "k2_MjdsTWfVl",
        "outputId": "f83e984f-6efa-4f41-a852-377cd0a29b5f"
      },
      "execution_count": null,
      "outputs": [
        {
          "output_type": "stream",
          "name": "stdout",
          "text": [
            "Informe o primeiro inteiro da divisão: 100\n",
            "Informe o segundo inteiro da divisão: 20\n",
            "MDC: 20\n"
          ]
        }
      ]
    },
    {
      "cell_type": "markdown",
      "source": [
        "# **Uso de if, if-else, if-elif-else**"
      ],
      "metadata": {
        "id": "jPha0OawmP6U"
      }
    },
    {
      "cell_type": "code",
      "source": [
        "\"\"\"\n",
        "\n",
        "if condição_do_if:\n",
        "  comando_1\n",
        "  comando_2\n",
        "  .\n",
        "  .\n",
        "  .\n",
        "  comando_n\n",
        "\n",
        "comando_após_if\n",
        "\n",
        "\"\"\"\n",
        "\n",
        "idade = int(input(\"Informe sua idade: \"))\n",
        "if idade >= 18:\n",
        "  print(\"parabens já pode ter cnh!\")\n",
        "else:\n",
        "  print(\"muito novo para dirigir\")\n",
        "\n",
        "\n",
        "n = int(input(\"Digite um número: \"))\n",
        "if n % 2 == 0:\n",
        "  print(n, \"é par\")\n",
        "if n % 2 != 0:\n",
        "  print(n, \"é impar\")\n",
        "\n",
        "nota = int(input(\"Informe sua nota: \"))\n",
        "if nota < 30:\n",
        "  print(\"reprovado\")\n",
        "elif nota < 50:\n",
        "    print(\"Recuperação\")\n",
        "elif nota < 90:\n",
        "  print(\"Aprovado\")\n",
        "else:\n",
        "  print(\"Aprovado com louvor\")"
      ],
      "metadata": {
        "colab": {
          "base_uri": "https://localhost:8080/"
        },
        "id": "Xn5KGyU_mVFR",
        "outputId": "c6747924-1717-4f37-dbfa-5ddf978e5506"
      },
      "execution_count": null,
      "outputs": [
        {
          "output_type": "stream",
          "name": "stdout",
          "text": [
            "Informe sua idade: 15\n",
            "muito novo para dirigir\n",
            "Digite um número: 1\n",
            "1 é impar\n",
            "Informe sua nota: 100\n",
            "Aprovado com louvor\n"
          ]
        }
      ]
    },
    {
      "cell_type": "markdown",
      "source": [
        "Ex. 8 - Dados um número inteiro n, n > 0, e uma sequência com n números inteiros, determinar a soma dos pares. Por exemplo, para a sequência\n",
        "\n",
        "6 2 7 0 5 8 4"
      ],
      "metadata": {
        "id": "naUXxLUgpVEq"
      }
    },
    {
      "cell_type": "code",
      "source": [
        "n = int(input(\"Digite o número de elementos na sequência: \"))\n",
        "soma_pares = 0\n",
        "\n",
        "print(\"Digite a sequência de números inteiros:\")\n",
        "for i in range(n):\n",
        "    numero = int(input())\n",
        "    if numero % 2 == 0:\n",
        "        soma_pares += numero\n",
        "\n",
        "print(\"A soma dos números pares na sequência é:\", soma_pares)\n"
      ],
      "metadata": {
        "colab": {
          "base_uri": "https://localhost:8080/"
        },
        "id": "QFfL7EflpUae",
        "outputId": "559f0e7d-29d6-4b64-cf18-1bd4b17fb8f3"
      },
      "execution_count": null,
      "outputs": [
        {
          "output_type": "stream",
          "name": "stdout",
          "text": [
            "Digite o número de elementos na sequência: 7\n",
            "Digite a sequência de números inteiros:\n",
            "6\n",
            "2\n",
            "7\n",
            "0\n",
            "5\n",
            "8\n",
            "4\n",
            "A soma dos números pares na sequência é: 20\n"
          ]
        }
      ]
    },
    {
      "cell_type": "markdown",
      "source": [
        "Ex. 9 - Dados um número inteiro n, n > 0, e uma sequência com n números inteiros, determinar quantos números da sequência são pares e quantos são ímpares. Por exemplo, para a sequência\n",
        "\n",
        "6   -2   7   0  -5   8  4\n",
        "o seu programa deve escrever o número 4 para o número de pares e 2 para o de ímpares.\n",
        "\n"
      ],
      "metadata": {
        "id": "J1FcuCDdrw7F"
      }
    },
    {
      "cell_type": "code",
      "source": [
        "def contar_pares_impares(sequencia):\n",
        "    pares = 0\n",
        "    impares = 0\n",
        "\n",
        "    for numero in sequencia:\n",
        "        if numero % 2 == 0:\n",
        "            pares += 1\n",
        "        else:\n",
        "            impares += 1\n",
        "\n",
        "    return pares, impares\n",
        "\n",
        "n = int(input(\"Digite o número de elementos na sequência: \"))\n",
        "\n",
        "sequencia = []\n",
        "for i in range(n):\n",
        "    numero = int(input(f\"Digite o {i+1}º número: \"))\n",
        "    sequencia.append(numero)\n",
        "\n",
        "pares, impares = contar_pares_impares(sequencia)\n",
        "\n",
        "print(f\"Número de pares: {pares}\")\n",
        "print(f\"Número de ímpares: {impares}\")\n"
      ],
      "metadata": {
        "colab": {
          "base_uri": "https://localhost:8080/"
        },
        "id": "NVaIQqJzr04m",
        "outputId": "b67049dc-fb69-47de-8587-27424e2dd00c"
      },
      "execution_count": null,
      "outputs": [
        {
          "output_type": "stream",
          "name": "stdout",
          "text": [
            "Digite o número de elementos na sequência: 7\n",
            "Digite o 1º número: 6\n",
            "Digite o 2º número: -2\n",
            "Digite o 3º número: 7\n",
            "Digite o 4º número: 0\n",
            "Digite o 5º número: -5\n",
            "Digite o 6º número: 8\n",
            "Digite o 7º número: 4\n",
            "Número de pares: 5\n",
            "Número de ímpares: 2\n"
          ]
        }
      ]
    },
    {
      "cell_type": "markdown",
      "source": [
        "Ex. 10 - Dados um número inteiro n, n > 0, e um dígito d. 0 <= d <= 9, determinar quantas vezes d ocorre em n."
      ],
      "metadata": {
        "id": "tjcdjaYFurIK"
      }
    },
    {
      "cell_type": "code",
      "source": [
        "n = int(input(\"Digite o valor de n (n > 0): \"))\n",
        "d = int(input(\"Digite o valor de d (0<=d<=9): \"))\n",
        "\n",
        "conta_digito = 0\n",
        "n_salvo = n\n",
        "while n > 0:\n",
        "    dig = n % 10\n",
        "    n = n // 10\n",
        "    if dig == d:\n",
        "        conta_digito = conta_digito + 1\n",
        "\n",
        "print(\"O digito\", d, \"ocorre\", conta_digito, \"vezes em \", n_salvo)\n"
      ],
      "metadata": {
        "colab": {
          "base_uri": "https://localhost:8080/"
        },
        "id": "qSadHnj9usod",
        "outputId": "2b1db7d0-c5b5-4483-af5c-fb43d1b9945f"
      },
      "execution_count": null,
      "outputs": [
        {
          "output_type": "stream",
          "name": "stdout",
          "text": [
            "Digite o valor de n (n > 0): 10\n",
            "Digite o valor de d (0<=d<=9): 3\n",
            "O digito 3 ocorre 0 vezes em  10\n"
          ]
        }
      ]
    },
    {
      "cell_type": "markdown",
      "source": [
        "Ex. 11 - Dizemos que um número inteiro positivo é triangular se ele é o produto de três numeros inteiros consecutivos. Por exemplo, 120 é triangular, pois\n",
        "\n",
        "> 4 * 5 * 6 = 120\n"
      ],
      "metadata": {
        "id": "Hoan16tAvOK7"
      }
    },
    {
      "cell_type": "code",
      "source": [
        "def e_triangular(numero):\n",
        "    x = 0\n",
        "    while True:\n",
        "        x += 1\n",
        "        triangular = (x * (x + 1)) // 2\n",
        "        if triangular == numero:\n",
        "            return True\n",
        "        if triangular > numero:\n",
        "            return False\n",
        "\n",
        "numero = int(input(\"Digite um número: \"))\n",
        "if e_triangular(numero):\n",
        "    print(f\"{numero} é um número triangular.\")\n",
        "else:\n",
        "    print(f\"{numero} não é um número triangular.\")\n"
      ],
      "metadata": {
        "colab": {
          "base_uri": "https://localhost:8080/"
        },
        "id": "jBEtHVgevRmg",
        "outputId": "9d8175a2-ee62-4add-c017-00847185a00e"
      },
      "execution_count": null,
      "outputs": [
        {
          "output_type": "stream",
          "name": "stdout",
          "text": [
            "Digite um número: 820\n",
            "820 é um número triangular.\n"
          ]
        }
      ]
    },
    {
      "cell_type": "markdown",
      "source": [
        "Ex. 12 - Escreva um programa que leia três números inteiros e os imprima em ordem crescente.\n",
        "\n"
      ],
      "metadata": {
        "id": "__XpKuSLz8HK"
      }
    },
    {
      "cell_type": "code",
      "source": [
        "num1 = int(input(\"Digite o primeiro número inteiro: \"))\n",
        "num2 = int(input(\"Digite o segundo número inteiro: \"))\n",
        "num3 = int(input(\"Digite o terceiro número inteiro: \"))\n",
        "\n",
        "numeros = [num1, num2, num3]\n",
        "\n",
        "numeros.sort()\n",
        "\n",
        "print(\"Números em ordem crescente:\", numeros[0], numeros[1], numeros[2])\n"
      ],
      "metadata": {
        "colab": {
          "base_uri": "https://localhost:8080/"
        },
        "id": "wJnZtY6Tz-qY",
        "outputId": "180ef494-5072-477e-ba49-58ec5d4fa68f"
      },
      "execution_count": null,
      "outputs": [
        {
          "output_type": "stream",
          "name": "stdout",
          "text": [
            "Digite o primeiro número inteiro: 1001\n",
            "Digite o segundo número inteiro: 99\n",
            "Digite o terceiro número inteiro: 100\n",
            "Números em ordem crescente: 99 100 1001\n"
          ]
        }
      ]
    },
    {
      "cell_type": "markdown",
      "source": [
        "# **Indicadores de passagem:**"
      ],
      "metadata": {
        "id": "0RtDzx-Z2hfl"
      }
    },
    {
      "cell_type": "markdown",
      "source": [
        "Uma variável utilizada como indicador de passagem indica se algo ocorreu ou não ocorreu durante a execução de um programa e, portanto, seu valor é ou não é, verdadeiro ou falso. Por essa razão, em Python, essas variáveis são do tipo booleano (bool).\n",
        "\n"
      ],
      "metadata": {
        "id": "5Du9SruU2sJ4"
      }
    },
    {
      "cell_type": "markdown",
      "source": [
        " utilização de um indicador de passagem é bastante simples. Inicialmente a variável deve ser inicializada com um valor True ou False adequado. Em seguida, durante a execução do programa, o valor da variável é alterado apenas se o evento for detectado. Observe que, uma vez detectado o evento, o valor do indicador não deve ser mais alterado.\n",
        "\n"
      ],
      "metadata": {
        "id": "7RWKO9YV2uxm"
      }
    },
    {
      "cell_type": "markdown",
      "source": [
        "Dado um número inteiro n > 0 e uma sequência com n números inteiros, verifique se a sequência está em ordem crescente:"
      ],
      "metadata": {
        "id": "JJ4tK71z3etZ"
      }
    },
    {
      "cell_type": "code",
      "source": [
        "#exemplo\n",
        "\n",
        "\n",
        "n = int(input(\"digite o valor de n:\"))\n",
        "anterior = int(input(\"digite um numero da sequencia \"))\n",
        "i = 1\n",
        "\n",
        "while i < n:\n",
        "  x = int(input(\"Digite um valor da sequencia: \"))\n",
        "  if x <= anterior:\n",
        "    print(\"a sequencia não está ordenada\")\n",
        "  else:\n",
        "    print(\"a sequencia está ordenada\")\n",
        "\n",
        "  anterior = x\n",
        "  i = i + 1\n",
        "\n",
        "\n",
        "\n",
        "\"\"\"\n",
        "problemas desse codigo:\n",
        "\n",
        "imprime uma mensagem em cada iteração, quando apenas uma mensagem deveria ser impressa pelo programa;\n",
        "\n",
        "as mensagens podem ser inconsistentes: pode imprimir que a sequência está ordenada e não ordenada;\n",
        "\n",
        "imprime uma mensagem após verificar cada par, mas a resposta depende de toda a sequência.\n",
        "\n",
        "\"\"\""
      ],
      "metadata": {
        "id": "5YbrxdIq2mrF"
      },
      "execution_count": null,
      "outputs": []
    },
    {
      "cell_type": "code",
      "source": [
        "#possivel solução para esses problemas:\n",
        "\n",
        "n = int(input(\"Digite o valor de n: \"))\n",
        "anterior = int(input(\"Digite um número da sequência: \"))\n",
        "i = 1\n",
        "\n",
        "while i < n:\n",
        "  x = int(input(\"Digite um numero da sequencia: \"))\n",
        "  if x <= anterior:\n",
        "    crecente = False\n",
        "  else:\n",
        "    crescente = True\n",
        "  anterior = x\n",
        "  i = i + 1\n",
        "\n",
        "if crescente:\n",
        "  print(\"a sequencia está ordenada\")\n",
        "else:\n",
        "  print(\"a sequencia não está ordenada\")\n",
        "\n",
        "\"\"\"\n",
        "\n",
        "o codigo segue tendo um problema:\n",
        "\n",
        "a mensagem é definida apenas pelo último par da sequência. Assim, se a sequência for não decrescente mas o último par estiver em ordem crescente,\n",
        "a mensagem dada será que a sequência está ordenada.\n",
        "\n",
        "\"\"\""
      ],
      "metadata": {
        "id": "VNeqXWCt3yct"
      },
      "execution_count": null,
      "outputs": []
    },
    {
      "cell_type": "code",
      "source": [
        "#outra tentativa de solução:\n",
        "\n",
        "n = int(input(\"Digite o valor de n: \"))\n",
        "anterior = int(input(\"Digite um número da sequência: \"))\n",
        "i = 1\n",
        "\n",
        "crescente = True\n",
        "\n",
        "while i < n:\n",
        "    x = int(input(\"Digite um número da sequência: \"))\n",
        "    if x <= anterior:\n",
        "        crescente = False\n",
        "    anterior = x\n",
        "    i = i + 1\n",
        "\n",
        "if crescente:\n",
        "    print(\"A sequência está ordenada\")\n",
        "else:\n",
        "    print(\"A sequência não está ordenada\")\n",
        "\n",
        "\n",
        "\n",
        "\n",
        "\"\"\"\n",
        "\n",
        "retiramos o else. Dessa forma, quando o programa encontra um par fora de ordem,\n",
        "esse evento é marcado na variável crescente. ao comparar outros pares da sequência,\n",
        "mesmo que eles estiverem em ordem, a variável mantém o seu estado até o final da sequência.\n",
        "dessa forma, a mensagem correta, que considera o resultado entre todos os pares, é impressa.\n",
        "\n",
        "\n",
        "\"\"\""
      ],
      "metadata": {
        "id": "eBgvYP8V4oXV"
      },
      "execution_count": null,
      "outputs": []
    },
    {
      "cell_type": "code",
      "source": [
        "#solução final\n",
        "\n",
        "n = int(input(\"Digite o valor de n: \"))\n",
        "anterior = int(input(\"Digite um número da sequência: \"))\n",
        "i = 1\n",
        "\n",
        "crescente = True\n",
        "\n",
        "while i < n and crescente:\n",
        "    x = int(input(\"Digite um número da sequência: \"))\n",
        "    if x <= anterior:\n",
        "        crescente = False\n",
        "    anterior = x\n",
        "    i = i + 1\n",
        "\n",
        "if crescente:\n",
        "    print(\"A sequência está ordenada\")\n",
        "else:\n",
        "    print(\"A sequência não está ordenada\")\n",
        "\n",
        "\n"
      ],
      "metadata": {
        "id": "-U3YQaJK5Aro"
      },
      "execution_count": null,
      "outputs": []
    },
    {
      "cell_type": "markdown",
      "source": [
        "Ex. 13 - Dado um número inteiro n > 1 e uma sequência com n números inteiros, verificar se todos os elementos da sequência são pares\n",
        "\n"
      ],
      "metadata": {
        "id": "-T3tO9CB5Nxq"
      }
    },
    {
      "cell_type": "code",
      "source": [
        "n = int(input(\"Informe o valor de n: \"))\n",
        "ant = int(input(\"Informe um número da sequência: \"))\n",
        "i = 1\n",
        "\n",
        "par = True\n",
        "\n",
        "while i < n and par:\n",
        "    x = int(input(\"Digite um número da sequência: \"))\n",
        "    if x % 2 != 0:\n",
        "        par = False\n",
        "    ant = x\n",
        "    i = i + 1\n",
        "\n",
        "if par:\n",
        "    print(\"A sequência é par.\")\n",
        "else:\n",
        "    print(\"A sequência é ímpar.\")\n"
      ],
      "metadata": {
        "colab": {
          "base_uri": "https://localhost:8080/"
        },
        "id": "MEbv7-iE5Sb3",
        "outputId": "6ce0135b-1fa3-4f48-c786-34af388140d9"
      },
      "execution_count": null,
      "outputs": [
        {
          "output_type": "stream",
          "name": "stdout",
          "text": [
            "Informe o valor de n: 2\n",
            "Informe um número da sequência: 5\n",
            "Digite um número da sequência: 9\n",
            "A sequência é ímpar.\n"
          ]
        }
      ]
    },
    {
      "cell_type": "markdown",
      "source": [
        "Ex. 14 - Dado um número inteiro n > 1, verificar se n é primo. Utilize o padrão de indicador de passagem na sua solução."
      ],
      "metadata": {
        "id": "Dd0IK1yR67yh"
      }
    },
    {
      "cell_type": "code",
      "source": [
        "def primo(n):\n",
        "    if n <= 1:\n",
        "        return False\n",
        "\n",
        "\n",
        "    primo = True\n",
        "    for i in range(2, int(n**0.5) + 1):\n",
        "        if n % i == 0:\n",
        "\n",
        "            primo = False\n",
        "            break\n",
        "\n",
        "    return primo\n",
        "\n",
        "n = 17\n",
        "if primo(n):\n",
        "    print(f\"{n} é primo.\")\n",
        "else:\n",
        "    print(f\"{n} não é primo.\")\n"
      ],
      "metadata": {
        "colab": {
          "base_uri": "https://localhost:8080/"
        },
        "id": "mp0UEV716-TH",
        "outputId": "7bc543c2-dc67-4c26-8516-0a97f73d610e"
      },
      "execution_count": null,
      "outputs": [
        {
          "output_type": "stream",
          "name": "stdout",
          "text": [
            "17 é primo.\n"
          ]
        }
      ]
    },
    {
      "cell_type": "markdown",
      "source": [
        "## **Repetição encaixada**"
      ],
      "metadata": {
        "id": "3fo5eEi8JbWn"
      }
    },
    {
      "cell_type": "markdown",
      "source": [
        "função y+xy-x².\n",
        "\n",
        "Uma forma computacional para estimar o máximo dessa função dentro de um intervalo é testar vários pares (x,y), “procurando” pela solução. A ideia é escrever um programa que gera todos os pares (x,y) para encontrar o par que corresponde ao máximo da função.\n",
        "\n"
      ],
      "metadata": {
        "id": "gh79TEGLJmeK"
      }
    },
    {
      "cell_type": "code",
      "source": [
        "#resolvendo esse problema comum:\n",
        "\n",
        "\n",
        "# Vamos considerar apenas os números inteiros no intervalo 0 <= x <= 2 e 0 <= y <= 3.\n",
        "\n",
        "x = 0\n",
        "while x <= 2:\n",
        "  print('para x igual a', x)\n",
        "\n",
        "  y = 0\n",
        "  while y <= 3:\n",
        "    print(' (', x, ',', y, ')')\n",
        "    y = y + 1\n",
        "\n",
        "  x = x + 1\n"
      ],
      "metadata": {
        "colab": {
          "base_uri": "https://localhost:8080/"
        },
        "id": "njIvYk0RJi1L",
        "outputId": "94253ab1-2bcf-47f8-ea22-0c7007120f69"
      },
      "execution_count": null,
      "outputs": [
        {
          "output_type": "stream",
          "name": "stdout",
          "text": [
            "para x igual a 0\n",
            " ( 0 , 0 )\n",
            " ( 0 , 1 )\n",
            " ( 0 , 2 )\n",
            " ( 0 , 3 )\n",
            "para x igual a 1\n",
            " ( 1 , 0 )\n",
            " ( 1 , 1 )\n",
            " ( 1 , 2 )\n",
            " ( 1 , 3 )\n",
            "para x igual a 2\n",
            " ( 2 , 0 )\n",
            " ( 2 , 1 )\n",
            " ( 2 , 2 )\n",
            " ( 2 , 3 )\n"
          ]
        }
      ]
    },
    {
      "cell_type": "code",
      "source": [
        "# agora para calcular os pontos maximos:\n",
        "\n",
        "x_ini = 0\n",
        "x_fim = 2\n",
        "\n",
        "y_ini = 0\n",
        "y_fim = 3\n",
        "\n",
        "#cálculo do ponto de máximo\n",
        "x_max = 0\n",
        "y_max = 0\n",
        "v_max = y_ini + x_ini * y_ini - x_ini * x_ini\n",
        "\n",
        "#pontos no intervalo\n",
        "x = x_ini\n",
        "while x <= x_fim:\n",
        "\n",
        "    y = y_ini\n",
        "    while y <= y_fim:\n",
        "        valor = y + x*y - x*x\n",
        "        if valor > v_max:\n",
        "            v_max = valor\n",
        "            x_max = x\n",
        "            y_max = y\n",
        "\n",
        "        y = y + 1\n",
        "    x = x + 1\n",
        "\n",
        "print('Valor máximo: ', v_max)\n",
        "print('Obtido no ponto: (', x_max,  ',', y_max, ')')\n"
      ],
      "metadata": {
        "colab": {
          "base_uri": "https://localhost:8080/"
        },
        "id": "oFCB3fzjLtia",
        "outputId": "7f0b8fe2-ff57-4c7c-e9d5-50679c578c89"
      },
      "execution_count": null,
      "outputs": [
        {
          "output_type": "stream",
          "name": "stdout",
          "text": [
            "Valor máximo:  5\n",
            "Obtido no ponto: ( 1 , 3 )\n"
          ]
        }
      ]
    },
    {
      "cell_type": "markdown",
      "source": [
        "Ex. 14 - Sabe-se que cada número da forma n**3 é igual a soma de n ímpares consecutivos. Por exemplo,\n",
        "\n",
        "1 ** 3 = 2,\n",
        "2 ** 3 = 3 + 5,\n",
        "3 ** 3 = 7 + 9 + 11,\n",
        "4 ** 3 = 13 + 15 + 17 + 19,\n",
        "Dado um número inteiro m, m > 0, determinar os ímpares consecutivos cuja soma é igual a n**3, para n assumindo valores de 1 a m."
      ],
      "metadata": {
        "id": "POxaB5gjMJyM"
      }
    },
    {
      "cell_type": "code",
      "source": [
        "def encontrar_impares_consecutivos(m):\n",
        "    for n in range(1, m + 1):\n",
        "        primeiro_impar = (n - 1) ** 2 * 2 + 1\n",
        "        impares = [primeiro_impar + i * 2 for i in range(n)]\n",
        "        soma = sum(impares)\n",
        "        print(f\"{n} ** 3 = {' + '.join(map(str, impares))} = {soma}\")\n",
        "\n",
        "m = int(input(\"Digite um número inteiro m (m > 0): \"))\n",
        "encontrar_impares_consecutivos(m)\n"
      ],
      "metadata": {
        "colab": {
          "base_uri": "https://localhost:8080/"
        },
        "id": "k8-GOQTTMVXG",
        "outputId": "a730fce7-8cb6-4d6c-b2c7-5fbe657144c0"
      },
      "execution_count": null,
      "outputs": [
        {
          "output_type": "stream",
          "name": "stdout",
          "text": [
            "Digite um número inteiro m (m > 0): 3\n",
            "1 ** 3 = 1 = 1\n",
            "2 ** 3 = 3 + 5 = 8\n",
            "3 ** 3 = 9 + 11 + 13 = 33\n"
          ]
        }
      ]
    },
    {
      "cell_type": "markdown",
      "source": [
        "# **Funções em Python:**"
      ],
      "metadata": {
        "id": "VCR_QW7oO8nb"
      }
    },
    {
      "cell_type": "code",
      "source": [
        "def nome_da_função ( parâmetros ):\n",
        "    '''\n",
        "    docstring contendo comentários sobre a função.\n",
        "    Embora opcionais são fortemente recomendados. Os comentários\n",
        "    devem descrever o papel dos parâmetros e o que a função faz.\n",
        "    '''\n",
        "    # corpo da função\n",
        "    |\n",
        "    | bloco de comandos\n",
        "    |"
      ],
      "metadata": {
        "id": "8TppDbvPO__3"
      },
      "execution_count": null,
      "outputs": []
    },
    {
      "cell_type": "code",
      "source": [
        "estrutura final de um programa python:\n",
        "\n",
        "# função  principal\n",
        "def main():\n",
        "    '''\n",
        "    Função principal, será a primeira a ser executado e\n",
        "    será a responsável pela chamada de outras funções que\n",
        "    por sua vez podem ou não chamar outras funções que\n",
        "    por sua vez ...\n",
        "    '''\n",
        "    # corpo da função main\n",
        "    |\n",
        "    | bloco de comandos\n",
        "    |\n",
        "\n",
        "# Declaração das funções\n",
        "def f( parâmetros_de_f ):\n",
        "    '''\n",
        "    docstring da função f\n",
        "    '''\n",
        "    # corpo da função f\n",
        "    |\n",
        "    | bloco de comandos\n",
        "    |\n",
        "\n",
        "def g( parâmetros_de_g ):\n",
        "    '''\n",
        "    docstring da função g\n",
        "    '''\n",
        "    # corpo da função g\n",
        "    |\n",
        "    | bloco de comandos\n",
        "    |\n",
        "\n",
        "[...]\n",
        "\n",
        "# início da execução do programa\n",
        "\n",
        "\n",
        "if __name__ == '__main__': # chamada da funcao principal\n",
        "    main() # chamada da função main\n"
      ],
      "metadata": {
        "id": "S9EgaTq5POm2"
      },
      "execution_count": null,
      "outputs": []
    },
    {
      "cell_type": "markdown",
      "source": [
        "Ex. 15 - Complete a função fatorial abaixo, que recebe como parâmetro um número inteiro k, k >= 0, e retorna k!.\n",
        "Escreva apenas o corpo da função. Observe que o código já inclui chamadas para a função fatorial, para que você possa testar a função."
      ],
      "metadata": {
        "id": "z9BD-x9ePjO0"
      }
    },
    {
      "cell_type": "code",
      "source": [
        "def main():\n",
        "  print(\"0! =\", fatorial(0))\n",
        "  print(\"1! =\", fatorial(1))\n",
        "  print(\"2! =\", fatorial(2))\n",
        "  print(\"3! =\", fatorial(3))\n",
        "\n",
        "def fatorial(k):\n",
        "    fat = 1\n",
        "    i = 2\n",
        "    while i <= k:\n",
        "        fat = fat * i\n",
        "        i = i + 1\n",
        "    return fat\n",
        "\n",
        "if __name__ == '__main':\n",
        "  main()\n"
      ],
      "metadata": {
        "id": "p-x33ihrPcOF"
      },
      "execution_count": null,
      "outputs": []
    },
    {
      "cell_type": "markdown",
      "source": [
        "# **Listas**"
      ],
      "metadata": {
        "id": "Fti0lPZ3dYPA"
      }
    },
    {
      "cell_type": "code",
      "source": [
        "primos = [2, 3, 5, 7, 11]\n",
        "\n",
        "uma_lista = [11, \"oi\", 5.4, True]\n",
        "\n",
        "outra_lista = [\"Luis\", \"masculino\", 20, 1.68, \"Brasileiro\", \"Solteiro\"]\n",
        "guilherme = [\"Guilherme\", \"Luis\", 2003, \"Brasil\", 2020, \"Dev\", \"USA-CA\"]\n",
        "\n",
        "\n",
        "#len(primos)\n",
        "#len(uma_lista)\n",
        "#len(outra_lista)\n",
        "len(guilherme)\n",
        "\n"
      ],
      "metadata": {
        "colab": {
          "base_uri": "https://localhost:8080/"
        },
        "id": "qeHJEP_JdaGi",
        "outputId": "2255d715-0a3a-4dcd-82ed-ac40666dae3c"
      },
      "execution_count": 4,
      "outputs": [
        {
          "output_type": "execute_result",
          "data": {
            "text/plain": [
              "7"
            ]
          },
          "metadata": {},
          "execution_count": 4
        }
      ]
    },
    {
      "cell_type": "code",
      "source": [
        "#acessando dados em uma lista\n",
        "\n",
        "primos = [2,3,5,7,11]\n",
        "\n",
        "i = 0\n",
        "\n",
        "while i < len(primos):\n",
        "  print(\"elemento de indice %d = %d\"%(i,primos[i]))\n",
        "  i = i + 1\n",
        "\n",
        "numeros = [17, 183, 87, 34, 66, 8398, 44]\n",
        "print(\"%3d: %d\" %(2,numeros[-2]))\n",
        "print(\"%3d: %d\" %(9-8,numeros[9-8]))\n",
        "print(\"%3d: %d\" %(5,numeros[-5]))\n",
        "print(\"%3d: %d\" %(len(numeros)-1,numeros[len(numeros)-1]))"
      ],
      "metadata": {
        "colab": {
          "base_uri": "https://localhost:8080/"
        },
        "id": "sXkxLw_xeUIE",
        "outputId": "bfba3ca7-a363-4367-df13-772b2d4abb56"
      },
      "execution_count": 7,
      "outputs": [
        {
          "output_type": "stream",
          "name": "stdout",
          "text": [
            "elemento de indice 0 = 2\n",
            "elemento de indice 1 = 3\n",
            "elemento de indice 2 = 5\n",
            "elemento de indice 3 = 7\n",
            "elemento de indice 4 = 11\n",
            "  2: 8398\n",
            "  1: 183\n",
            "  5: 87\n",
            "  6: 44\n"
          ]
        }
      ]
    },
    {
      "cell_type": "code",
      "source": [
        "# cria lista de tamanho n com zeros\n",
        "n = int(input(\"Digite o tamanho da lista: \"))\n",
        "lista = [0] * n\n",
        "print(lista)"
      ],
      "metadata": {
        "colab": {
          "base_uri": "https://localhost:8080/"
        },
        "id": "VWEfk9wafn74",
        "outputId": "822e063b-e9d2-4315-ad89-fe27b945562c"
      },
      "execution_count": 11,
      "outputs": [
        {
          "output_type": "stream",
          "name": "stdout",
          "text": [
            "Digite o tamanho da lista: 10\n",
            "[0, 0, 0, 0, 0, 0, 0, 0, 0, 0]\n"
          ]
        }
      ]
    },
    {
      "cell_type": "code",
      "source": [
        "#usando for para varrer elementos em lista:\n",
        "\n",
        "primos = [2,3,5,7,11,13]\n",
        "\n",
        "print(\"varredura:\")\n",
        "for elemento in primos:\n",
        "  print(\"valor da variavel elemento: \", elemento)\n",
        "print(\"Fim da varredura\")\n",
        "\n",
        "print(\"\\n\")\n",
        "print(\"varredura usando while: \")\n",
        "i = 0\n",
        "while i < len(primos):\n",
        "  print(\"posicao %d da lista: %d\"%(i, primos[i]))\n",
        "  i = i + 1\n",
        "\n"
      ],
      "metadata": {
        "colab": {
          "base_uri": "https://localhost:8080/"
        },
        "id": "SrI9p2BVgAp8",
        "outputId": "f371dbd2-a96d-44f9-9f92-026d184c8ad8"
      },
      "execution_count": 12,
      "outputs": [
        {
          "output_type": "stream",
          "name": "stdout",
          "text": [
            "varredura:\n",
            "valor da variavel elemento:  2\n",
            "valor da variavel elemento:  3\n",
            "valor da variavel elemento:  5\n",
            "valor da variavel elemento:  7\n",
            "valor da variavel elemento:  11\n",
            "valor da variavel elemento:  13\n",
            "Fim da varredura\n",
            "\n",
            "\n",
            "varredura usando while: \n",
            "posicao 0 da lista: 2\n",
            "posicao 1 da lista: 3\n",
            "posicao 2 da lista: 5\n",
            "posicao 3 da lista: 7\n",
            "posicao 4 da lista: 11\n",
            "posicao 5 da lista: 13\n"
          ]
        }
      ]
    },
    {
      "cell_type": "code",
      "source": [
        "start = 10\n",
        "end = 20\n",
        "step = 3\n",
        "for i in range(start, end, step):\n",
        "  print(i)"
      ],
      "metadata": {
        "colab": {
          "base_uri": "https://localhost:8080/"
        },
        "id": "TxyAfWxlg43M",
        "outputId": "5344545a-3471-4e25-93cc-cc4f9bc5e3fc"
      },
      "execution_count": 16,
      "outputs": [
        {
          "output_type": "stream",
          "name": "stdout",
          "text": [
            "10\n",
            "13\n",
            "16\n",
            "19\n"
          ]
        }
      ]
    },
    {
      "cell_type": "code",
      "source": [
        "a = 5\n",
        "b = 10\n",
        "\n",
        "for i in range(a,b):\n",
        "  print(i)\n",
        "\"\"\"\n",
        "pode-se perceber que o que fiz foi apenas diminuir o tamanho do codigo. Tambem mudando os nome das variaveis\n",
        "isso permite que eu consiga manter uma \"discrição\" no codigo.\n",
        "\"\"\""
      ],
      "metadata": {
        "colab": {
          "base_uri": "https://localhost:8080/"
        },
        "id": "R5Ac9LDRiB6l",
        "outputId": "83a6b7a8-f6d5-4051-f840-f5c1dfe774a3"
      },
      "execution_count": 17,
      "outputs": [
        {
          "output_type": "stream",
          "name": "stdout",
          "text": [
            "5\n",
            "6\n",
            "7\n",
            "8\n",
            "9\n"
          ]
        }
      ]
    },
    {
      "cell_type": "code",
      "source": [
        "a = [2,3,5,7,11,13]\n",
        "\n",
        "for i in range(len(a)):\n",
        "  print(\"%d : %d\"%(i, a[i]))\n",
        "\n",
        "#basicamente fazemos uma varredura geral de uma lista"
      ],
      "metadata": {
        "colab": {
          "base_uri": "https://localhost:8080/"
        },
        "id": "dj9AErQ1izku",
        "outputId": "8d509d74-bdc6-4848-e26e-4111e398d98e"
      },
      "execution_count": 18,
      "outputs": [
        {
          "output_type": "stream",
          "name": "stdout",
          "text": [
            "0 : 2\n",
            "1 : 3\n",
            "2 : 5\n",
            "3 : 7\n",
            "4 : 11\n",
            "5 : 13\n"
          ]
        }
      ]
    },
    {
      "cell_type": "code",
      "source": [
        "c = [1,2,3,4,5,6,7,8,9,10,11,12]\n",
        "\n",
        "i = 0\n",
        "e = len(c)\n",
        "s = 2\n",
        "\n",
        "\n",
        "for i in range(i, e, s):\n",
        "  print(\"%d %d\"%(i, c[i]))\n",
        "\n",
        "\n"
      ],
      "metadata": {
        "colab": {
          "base_uri": "https://localhost:8080/"
        },
        "id": "9INB2jTqjzd-",
        "outputId": "2d5aa8d7-3a52-448e-bad3-327d5d1f9279"
      },
      "execution_count": 26,
      "outputs": [
        {
          "output_type": "stream",
          "name": "stdout",
          "text": [
            "0 1\n",
            "2 3\n",
            "4 5\n",
            "6 7\n",
            "8 9\n",
            "10 11\n"
          ]
        }
      ]
    },
    {
      "cell_type": "markdown",
      "source": [
        "Ex. 16 - Dados n > 0 e uma sequência com n números reais, imprimí-los na ordem inversa a da leitura."
      ],
      "metadata": {
        "id": "XdevIMAol4Jo"
      }
    },
    {
      "cell_type": "code",
      "source": [
        "def main():\n",
        "    n = int(input(\"Digite o tamanho da lista: \"))\n",
        "    lista = []\n",
        "\n",
        "    for i in range(n):\n",
        "        numero = float(input(\"Digite o número real: \"))\n",
        "        lista.append(numero)\n",
        "\n",
        "    lista_sem_repeticoes = list(set(lista))\n",
        "\n",
        "    print(\"Lista sem repetições:\")\n",
        "    for numero in lista_sem_repeticoes:\n",
        "        print(numero)\n",
        "\n",
        "main()\n"
      ],
      "metadata": {
        "colab": {
          "base_uri": "https://localhost:8080/"
        },
        "id": "ZDJp-A60l6sY",
        "outputId": "85386d8c-f62c-4fc8-cf32-7263e63b0f53"
      },
      "execution_count": 40,
      "outputs": [
        {
          "output_type": "stream",
          "name": "stdout",
          "text": [
            "Digite o tamanho da lista: 5\n",
            "Digite o número real: 1.0\n",
            "Digite o número real: 1.0\n",
            "Digite o número real: 2.0\n",
            "Digite o número real: 3.0\n",
            "Digite o número real: 4.0\n",
            "Lista sem repetições:\n",
            "1.0\n",
            "2.0\n",
            "3.0\n",
            "4.0\n"
          ]
        }
      ]
    },
    {
      "cell_type": "markdown",
      "source": [
        "Ex. 17 - Dados um número inteiro n e uma sequência com n números reais, determinar a maior soma de um segmento da sequência (com pelo menos um elemento). Um segmento é uma subsequência de números consecutivos.\n",
        "\n",
        "Para n == 12 e a sequência 5   -2   -2   -7   3   14  10  -3   9   -6   4   1 a soma do segmento de soma máxima é 3 + 14 + 10 - 3 + 9 = 33"
      ],
      "metadata": {
        "id": "03tmfWhhokYE"
      }
    },
    {
      "cell_type": "code",
      "source": [
        "def sg(arr):\n",
        "    ms = float('-inf')\n",
        "    msa = 0\n",
        "\n",
        "    for num in arr:\n",
        "        msa = max(num, msa + num)\n",
        "        ms = max(ms, msa)\n",
        "    return ms\n",
        "\n",
        "\n",
        "#caso queira, use outra sequencia e teste.\n",
        "n = 12\n",
        "s = [5, -2, -2, -7, 3, 14, 10, -3, 9, -6, 4, 1]\n",
        "r = sg(s)\n",
        "print(\"a maior soma de um segmento é:\", r)\n"
      ],
      "metadata": {
        "colab": {
          "base_uri": "https://localhost:8080/"
        },
        "id": "F8RrmJthomaC",
        "outputId": "cc60f1bd-8ec2-42e3-9baa-94a175788b83"
      },
      "execution_count": 46,
      "outputs": [
        {
          "output_type": "stream",
          "name": "stdout",
          "text": [
            "a maior soma de um segmento é: 33\n"
          ]
        }
      ]
    },
    {
      "cell_type": "markdown",
      "source": [
        "# **Funções com Listas**"
      ],
      "metadata": {
        "id": "qVUbMz6vprnl"
      }
    },
    {
      "cell_type": "markdown",
      "source": [
        "Ex. 18 - (objeto, list) -> bool.\n",
        "Recebe uma lista de itens e um item e retorna True se o item eh um elemento da lista e False em caso contrario."
      ],
      "metadata": {
        "id": "rvqJXTTGpv27"
      }
    },
    {
      "cell_type": "code",
      "source": [
        "def p(o, l):\n",
        "    return o in l\n",
        "\n",
        "l = [1, 2, 3, 4, 5]\n",
        "i = 3\n",
        "\n",
        "if p(i, l):\n",
        "    print(f\"{i} está na lista\")\n",
        "else:\n",
        "    print(f\"{i} não está na lista\")\n"
      ],
      "metadata": {
        "colab": {
          "base_uri": "https://localhost:8080/"
        },
        "id": "2hYjTm10pvIl",
        "outputId": "8c439756-bdef-4c56-8cbd-bdfd2a8d6cce"
      },
      "execution_count": 49,
      "outputs": [
        {
          "output_type": "stream",
          "name": "stdout",
          "text": [
            "3 está na lista\n"
          ]
        }
      ]
    },
    {
      "cell_type": "markdown",
      "source": [
        "Ex. 19 - (int, int, lista) --> int    Recebe uma lista `lista` de número e dois índices `ini` e `fim`, retorna a soma da sublista (= fatia) formada pelos elementos de índices ini, ini+1,...... ,fim-1.\n",
        "\n"
      ],
      "metadata": {
        "id": "HElfd8Cmrr34"
      }
    },
    {
      "cell_type": "code",
      "source": [
        "def soma_elementos(ini, fim, lista):\n",
        "    soma = 0\n",
        "    for i in range(ini, fim):\n",
        "        soma += lista[i]\n",
        "\n",
        "    return soma\n",
        "\n",
        "lista = [1, 2, 3, 4, 5]\n",
        "\n",
        "# teste 1\n",
        "if soma_elementos(0, len(lista), lista) == 15:\n",
        "    print(\"Passou no primeiro teste! :-)\")\n",
        "else:\n",
        "    print(\"Não passou no primeiro teste! :-(\")\n",
        "\n",
        "# teste 2\n",
        "if soma_elementos(1, 4, lista) == 9:\n",
        "    print(\"Passou no segundo teste! :-)\")\n",
        "else:\n",
        "    print(\"Não passou no segundo teste! :-(\")\n",
        "\n",
        "# teste 3\n",
        "if soma_elementos(2, 2, lista) == 0:\n",
        "    print(\"Passou no terceiro teste! :-)\")\n",
        "else:\n",
        "    print(\"Não passou no terceiro teste! :-(\")\n"
      ],
      "metadata": {
        "colab": {
          "base_uri": "https://localhost:8080/"
        },
        "id": "1wLWvsv8rtiZ",
        "outputId": "fbfc1977-026b-4194-c093-a6c7962cf0b4"
      },
      "execution_count": 50,
      "outputs": [
        {
          "output_type": "stream",
          "name": "stdout",
          "text": [
            "Passou no primeiro teste! :-)\n",
            "Passou no segundo teste! :-)\n",
            "Passou no terceiro teste! :-)\n"
          ]
        }
      ]
    },
    {
      "cell_type": "markdown",
      "source": [
        "# **Strings:**"
      ],
      "metadata": {
        "id": "6Caoe2Pqsufi"
      }
    },
    {
      "cell_type": "markdown",
      "source": [
        "Um string (=tipo str) é uma sequência de caracteres. Em Python, podemos representar um string colando-o entre aspas ou apóstrofes."
      ],
      "metadata": {
        "id": "3pmpUfV8s0-6"
      }
    },
    {
      "cell_type": "code",
      "source": [
        "#criando strings e concatenando\n",
        "\n",
        "\n",
        "def main():\n",
        "  f = \"\"\n",
        "  f = f + \"essa string usa \"\n",
        "  m = '\"apostrofes\"'\n",
        "  fi = \" como marcardor \"\n",
        "  f = f + m + fi\n",
        "  print(\"a frase é:\",f)\n",
        "  print(\"comprimento: \", len(f))\n",
        "main()"
      ],
      "metadata": {
        "colab": {
          "base_uri": "https://localhost:8080/"
        },
        "id": "az-HNyGPsxRq",
        "outputId": "56770665-794b-4e58-a5fb-aec6237ec79b"
      },
      "execution_count": 53,
      "outputs": [
        {
          "output_type": "stream",
          "name": "stdout",
          "text": [
            "a frase é: essa string usa \"apostrofes\" como marcardor \n",
            "comprimento:  44\n"
          ]
        }
      ]
    },
    {
      "cell_type": "markdown",
      "source": [
        "Demonstração de busca em frases com indices"
      ],
      "metadata": {
        "id": "yntCwN5Jvvik"
      }
    },
    {
      "cell_type": "code",
      "source": [
        "def main():\n",
        "    f = \"eu posso ajudar respondendo perguntas no StackOverFlow!\"\n",
        "    sorte = [5, -4, 3, -8, 11]\n",
        "    acertos = 0\n",
        "\n",
        "    for i in sorte:\n",
        "        if i >= 0 and i < len(f):\n",
        "            r = input(\"Qual o caractere do índice %d?\" % i)\n",
        "            if f[i] == r:\n",
        "                print(\"Parabéns, você acertou!\")\n",
        "                acertos += 1\n",
        "            else:\n",
        "                print(\"Você errou! O caractere do índice %d é %s\" % (i, f[i]))\n",
        "        else:\n",
        "            print(\"Índice fora dos limites: %d\" % i)\n",
        "\n",
        "    print(\"Você acertou %d de %d perguntas\" % (acertos, len(sorte)))\n",
        "\n",
        "main()\n"
      ],
      "metadata": {
        "colab": {
          "base_uri": "https://localhost:8080/"
        },
        "id": "3x-VORg7tkpA",
        "outputId": "1568a225-c551-4959-d375-9b417c01b9b6"
      },
      "execution_count": 60,
      "outputs": [
        {
          "output_type": "stream",
          "name": "stdout",
          "text": [
            "Qual o caractere do índice 5?p\n",
            "Você errou! O caractere do índice 5 é s\n",
            "Índice fora dos limites: -4\n",
            "Qual o caractere do índice 3?u\n",
            "Você errou! O caractere do índice 3 é p\n",
            "Índice fora dos limites: -8\n",
            "Qual o caractere do índice 11?p\n",
            "Você errou! O caractere do índice 11 é u\n",
            "Você acertou 0 de 5 perguntas\n"
          ]
        }
      ]
    },
    {
      "cell_type": "markdown",
      "source": [
        "# **Strings NÃO são Listas**"
      ],
      "metadata": {
        "id": "4pjB_PcJv4Nh"
      }
    },
    {
      "cell_type": "code",
      "source": [
        "def main():\n",
        "    texto = \"Esse é um 'string'\"\n",
        "    print(texto)\n",
        "    texto[2] = 'S'\n",
        "    print(texto)\n",
        "\n",
        "main()\n",
        "\n",
        "# vai acusar esse erro TypeError: 'str' does not support item assignment on line 4."
      ],
      "metadata": {
        "colab": {
          "base_uri": "https://localhost:8080/",
          "height": 349
        },
        "id": "HoR4vtxYv-s2",
        "outputId": "1f06c4f3-ac9d-4986-b132-26b9b5e02953"
      },
      "execution_count": 61,
      "outputs": [
        {
          "output_type": "stream",
          "name": "stdout",
          "text": [
            "Esse é um 'string'\n"
          ]
        },
        {
          "output_type": "error",
          "ename": "TypeError",
          "evalue": "ignored",
          "traceback": [
            "\u001b[0;31m---------------------------------------------------------------------------\u001b[0m",
            "\u001b[0;31mTypeError\u001b[0m                                 Traceback (most recent call last)",
            "\u001b[0;32m<ipython-input-61-8ffaf90954e3>\u001b[0m in \u001b[0;36m<cell line: 7>\u001b[0;34m()\u001b[0m\n\u001b[1;32m      5\u001b[0m     \u001b[0mprint\u001b[0m\u001b[0;34m(\u001b[0m\u001b[0mtexto\u001b[0m\u001b[0;34m)\u001b[0m\u001b[0;34m\u001b[0m\u001b[0;34m\u001b[0m\u001b[0m\n\u001b[1;32m      6\u001b[0m \u001b[0;34m\u001b[0m\u001b[0m\n\u001b[0;32m----> 7\u001b[0;31m \u001b[0mmain\u001b[0m\u001b[0;34m(\u001b[0m\u001b[0;34m)\u001b[0m\u001b[0;34m\u001b[0m\u001b[0;34m\u001b[0m\u001b[0m\n\u001b[0m",
            "\u001b[0;32m<ipython-input-61-8ffaf90954e3>\u001b[0m in \u001b[0;36mmain\u001b[0;34m()\u001b[0m\n\u001b[1;32m      2\u001b[0m     \u001b[0mtexto\u001b[0m \u001b[0;34m=\u001b[0m \u001b[0;34m\"Esse é um 'string'\"\u001b[0m\u001b[0;34m\u001b[0m\u001b[0;34m\u001b[0m\u001b[0m\n\u001b[1;32m      3\u001b[0m     \u001b[0mprint\u001b[0m\u001b[0;34m(\u001b[0m\u001b[0mtexto\u001b[0m\u001b[0;34m)\u001b[0m\u001b[0;34m\u001b[0m\u001b[0;34m\u001b[0m\u001b[0m\n\u001b[0;32m----> 4\u001b[0;31m     \u001b[0mtexto\u001b[0m\u001b[0;34m[\u001b[0m\u001b[0;36m2\u001b[0m\u001b[0;34m]\u001b[0m \u001b[0;34m=\u001b[0m \u001b[0;34m'S'\u001b[0m\u001b[0;34m\u001b[0m\u001b[0;34m\u001b[0m\u001b[0m\n\u001b[0m\u001b[1;32m      5\u001b[0m     \u001b[0mprint\u001b[0m\u001b[0;34m(\u001b[0m\u001b[0mtexto\u001b[0m\u001b[0;34m)\u001b[0m\u001b[0;34m\u001b[0m\u001b[0;34m\u001b[0m\u001b[0m\n\u001b[1;32m      6\u001b[0m \u001b[0;34m\u001b[0m\u001b[0m\n",
            "\u001b[0;31mTypeError\u001b[0m: 'str' object does not support item assignment"
          ]
        }
      ]
    },
    {
      "cell_type": "code",
      "source": [
        "#solução do codigo anterior\n",
        "def main():\n",
        "    texto = \"Esse é um 'string'\"\n",
        "    print(texto)\n",
        "    novo_texto = 'Mais' + texto[6:]\n",
        "    print(novo_texto)\n",
        "\n",
        "main()"
      ],
      "metadata": {
        "colab": {
          "base_uri": "https://localhost:8080/"
        },
        "id": "TPAcFOefwJcZ",
        "outputId": "be1e9938-5df6-4032-ea8a-b7b3ee674bb6"
      },
      "execution_count": 62,
      "outputs": [
        {
          "output_type": "stream",
          "name": "stdout",
          "text": [
            "Esse é um 'string'\n",
            "Mais um 'string'\n"
          ]
        }
      ]
    },
    {
      "cell_type": "markdown",
      "source": [
        "# **Tabela ASCII, caracteres:**"
      ],
      "metadata": {
        "id": "viUtsvQ1wRi7"
      }
    },
    {
      "cell_type": "code",
      "source": [
        "print(\"Tabela ASCII de 32 a 127: \")\n",
        "for i in range(32, 128, 3):\n",
        "    print(\"ASCII[ %3d ] = '%s'  |  ASCII[ %3d ] = '%s'  |  ASCII[ %3d ] = '%s'\"%\n",
        "    (i, chr(i), i+1, chr(i+1), i+2, chr(i+2)))\n"
      ],
      "metadata": {
        "colab": {
          "base_uri": "https://localhost:8080/"
        },
        "id": "X6HYUOsYwWJd",
        "outputId": "8826d2d2-2482-468f-e9bd-829fef5ec9b9"
      },
      "execution_count": 63,
      "outputs": [
        {
          "output_type": "stream",
          "name": "stdout",
          "text": [
            "Tabela ASCII de 32 a 127: \n",
            "ASCII[  32 ] = ' '  |  ASCII[  33 ] = '!'  |  ASCII[  34 ] = '\"'\n",
            "ASCII[  35 ] = '#'  |  ASCII[  36 ] = '$'  |  ASCII[  37 ] = '%'\n",
            "ASCII[  38 ] = '&'  |  ASCII[  39 ] = '''  |  ASCII[  40 ] = '('\n",
            "ASCII[  41 ] = ')'  |  ASCII[  42 ] = '*'  |  ASCII[  43 ] = '+'\n",
            "ASCII[  44 ] = ','  |  ASCII[  45 ] = '-'  |  ASCII[  46 ] = '.'\n",
            "ASCII[  47 ] = '/'  |  ASCII[  48 ] = '0'  |  ASCII[  49 ] = '1'\n",
            "ASCII[  50 ] = '2'  |  ASCII[  51 ] = '3'  |  ASCII[  52 ] = '4'\n",
            "ASCII[  53 ] = '5'  |  ASCII[  54 ] = '6'  |  ASCII[  55 ] = '7'\n",
            "ASCII[  56 ] = '8'  |  ASCII[  57 ] = '9'  |  ASCII[  58 ] = ':'\n",
            "ASCII[  59 ] = ';'  |  ASCII[  60 ] = '<'  |  ASCII[  61 ] = '='\n",
            "ASCII[  62 ] = '>'  |  ASCII[  63 ] = '?'  |  ASCII[  64 ] = '@'\n",
            "ASCII[  65 ] = 'A'  |  ASCII[  66 ] = 'B'  |  ASCII[  67 ] = 'C'\n",
            "ASCII[  68 ] = 'D'  |  ASCII[  69 ] = 'E'  |  ASCII[  70 ] = 'F'\n",
            "ASCII[  71 ] = 'G'  |  ASCII[  72 ] = 'H'  |  ASCII[  73 ] = 'I'\n",
            "ASCII[  74 ] = 'J'  |  ASCII[  75 ] = 'K'  |  ASCII[  76 ] = 'L'\n",
            "ASCII[  77 ] = 'M'  |  ASCII[  78 ] = 'N'  |  ASCII[  79 ] = 'O'\n",
            "ASCII[  80 ] = 'P'  |  ASCII[  81 ] = 'Q'  |  ASCII[  82 ] = 'R'\n",
            "ASCII[  83 ] = 'S'  |  ASCII[  84 ] = 'T'  |  ASCII[  85 ] = 'U'\n",
            "ASCII[  86 ] = 'V'  |  ASCII[  87 ] = 'W'  |  ASCII[  88 ] = 'X'\n",
            "ASCII[  89 ] = 'Y'  |  ASCII[  90 ] = 'Z'  |  ASCII[  91 ] = '['\n",
            "ASCII[  92 ] = '\\'  |  ASCII[  93 ] = ']'  |  ASCII[  94 ] = '^'\n",
            "ASCII[  95 ] = '_'  |  ASCII[  96 ] = '`'  |  ASCII[  97 ] = 'a'\n",
            "ASCII[  98 ] = 'b'  |  ASCII[  99 ] = 'c'  |  ASCII[ 100 ] = 'd'\n",
            "ASCII[ 101 ] = 'e'  |  ASCII[ 102 ] = 'f'  |  ASCII[ 103 ] = 'g'\n",
            "ASCII[ 104 ] = 'h'  |  ASCII[ 105 ] = 'i'  |  ASCII[ 106 ] = 'j'\n",
            "ASCII[ 107 ] = 'k'  |  ASCII[ 108 ] = 'l'  |  ASCII[ 109 ] = 'm'\n",
            "ASCII[ 110 ] = 'n'  |  ASCII[ 111 ] = 'o'  |  ASCII[ 112 ] = 'p'\n",
            "ASCII[ 113 ] = 'q'  |  ASCII[ 114 ] = 'r'  |  ASCII[ 115 ] = 's'\n",
            "ASCII[ 116 ] = 't'  |  ASCII[ 117 ] = 'u'  |  ASCII[ 118 ] = 'v'\n",
            "ASCII[ 119 ] = 'w'  |  ASCII[ 120 ] = 'x'  |  ASCII[ 121 ] = 'y'\n",
            "ASCII[ 122 ] = 'z'  |  ASCII[ 123 ] = '{'  |  ASCII[ 124 ] = '|'\n",
            "ASCII[ 125 ] = '}'  |  ASCII[ 126 ] = '~'  |  ASCII[ 127 ] = ''\n"
          ]
        }
      ]
    },
    {
      "cell_type": "markdown",
      "source": [
        "# **Arquivos:**"
      ],
      "metadata": {
        "id": "px7Xx2kFwgu0"
      }
    },
    {
      "cell_type": "code",
      "source": [
        "# criando um arquivo\n",
        "\n",
        "nome = \"hello_world.txt\" #input(\"informer o nome do arquivo: \")\n",
        "\n",
        "with open(nome, 'w', encoding='utf-8') as arq:\n",
        "  arq.write(\"Hello World! \\n\")\n",
        "  arq.write(\"Ser ou nao ser, eis a questão. \\n\")\n",
        "  arq.write(\"              Hamlet durante o monólogo da peça homônima de. William Shakespeare. \\n\")\n"
      ],
      "metadata": {
        "id": "1bwQbjyGwi7-"
      },
      "execution_count": 68,
      "outputs": []
    },
    {
      "cell_type": "markdown",
      "source": [
        "no canto esquerdo vai ver o icone da pasta, pode perceber que agora aparece o arquivo `hello_world.txt`"
      ],
      "metadata": {
        "id": "e-62BT0HxUYd"
      }
    },
    {
      "cell_type": "code",
      "source": [
        "#leitura dos arquivos\n",
        "\n",
        "nome = \"hello_world.txt\"\n",
        "with open(nome, 'r', encoding='utf-8') as arq_entrada:\n",
        "  conteudo = arq_entrada.read()\n",
        "\n",
        "print(conteudo)"
      ],
      "metadata": {
        "colab": {
          "base_uri": "https://localhost:8080/"
        },
        "id": "uZI4psVMw7ET",
        "outputId": "d7da29c7-2dcf-4e1a-9905-ccb1bf379ba5"
      },
      "execution_count": 69,
      "outputs": [
        {
          "output_type": "stream",
          "name": "stdout",
          "text": [
            "Hello World! \n",
            "Ser ou nao ser, eis a questão. \n",
            "              Hamlet durante o monólogo da peça homônima de. William Shakespeare. \n",
            "\n"
          ]
        }
      ]
    },
    {
      "cell_type": "code",
      "source": [
        "#caso queira adicionar uma quebra de linha:\n",
        "\n",
        "nome = \"hello_world.txt\"\n",
        "with open(nome, 'r', encoding='utf-8') as arquivo:\n",
        "  for linha in arquivo:\n",
        "    print(linha)"
      ],
      "metadata": {
        "colab": {
          "base_uri": "https://localhost:8080/"
        },
        "id": "a1gPQwsBxo-j",
        "outputId": "23bc2977-d6dc-452d-c3a7-db48c504a07f"
      },
      "execution_count": 70,
      "outputs": [
        {
          "output_type": "stream",
          "name": "stdout",
          "text": [
            "Hello World! \n",
            "\n",
            "Ser ou nao ser, eis a questão. \n",
            "\n",
            "              Hamlet durante o monólogo da peça homônima de. William Shakespeare. \n",
            "\n"
          ]
        }
      ]
    },
    {
      "cell_type": "code",
      "source": [
        "#retirar espaços ou linhas em branco\n",
        "ome = \"hello_world.txt\"\n",
        "\n",
        "with open(nome, 'r', encoding='utf-8') as arquivo:\n",
        "    for linha in arquivo:\n",
        "        linha_sem_brancos = linha.strip()\n",
        "        print(linha_sem_brancos)"
      ],
      "metadata": {
        "colab": {
          "base_uri": "https://localhost:8080/"
        },
        "id": "hjM-mVS6ysyl",
        "outputId": "c2ece4f0-e601-478d-9d91-978634080fab"
      },
      "execution_count": 71,
      "outputs": [
        {
          "output_type": "stream",
          "name": "stdout",
          "text": [
            "Hello World!\n",
            "Ser ou nao ser, eis a questão.\n",
            "Hamlet durante o monólogo da peça homônima de. William Shakespeare.\n"
          ]
        }
      ]
    },
    {
      "cell_type": "code",
      "source": [
        "#separar\n",
        "linhas = [\n",
        "            \"Hello World! \\n\",\n",
        "            \"Ser ou nao ser, eis a questão. \\n\",\n",
        "            \"              Hamlet durante o monólogo da peça homônima de. William Shakespeare. \\n\"\n",
        "            ]\n",
        "\n",
        "for linha in linhas:\n",
        "    linha_sem_brancos = linha.strip()\n",
        "    print(linha_sem_brancos)\n",
        "    palavras = linha_sem_brancos.split()\n",
        "    print(palavras)"
      ],
      "metadata": {
        "colab": {
          "base_uri": "https://localhost:8080/"
        },
        "id": "wvkQTDe6y6qa",
        "outputId": "67554712-21d5-4cdc-d1a1-4e9c07f42392"
      },
      "execution_count": 72,
      "outputs": [
        {
          "output_type": "stream",
          "name": "stdout",
          "text": [
            "Hello World!\n",
            "['Hello', 'World!']\n",
            "Ser ou nao ser, eis a questão.\n",
            "['Ser', 'ou', 'nao', 'ser,', 'eis', 'a', 'questão.']\n",
            "Hamlet durante o monólogo da peça homônima de. William Shakespeare.\n",
            "['Hamlet', 'durante', 'o', 'monólogo', 'da', 'peça', 'homônima', 'de.', 'William', 'Shakespeare.']\n"
          ]
        }
      ]
    },
    {
      "cell_type": "markdown",
      "source": [
        "Ex. 20 - Escreva um programa que leia um arquivo contendo ao menos 1 número real por linha, e para cada linha imprima a sua soma. Ao final, o programa deve imprimir também a soma total."
      ],
      "metadata": {
        "id": "C-MENtCvetes"
      }
    },
    {
      "cell_type": "code",
      "source": [
        "numeros = \"numeros.txt\"\n",
        "\n",
        "# Lista de números\n",
        "lista_numeros = [1.0, 2.0, 3.0, 4.0, 5.0, 6.0, 7.0, 8.0, 9.0, 10.0,\n",
        "                10.0, 20.0, 30.0, 40.0, 50.0, 60.0, 70.0, 80.0, 90.0, 100.0]\n",
        "\n",
        "# Abrir o arquivo para escrita\n",
        "with open(numeros, 'w', encoding='utf-8') as arq:\n",
        "    # Escrever os números um por linha\n",
        "    for numero in lista_numeros:\n",
        "        arq.write(str(numero) + '\\n')\n"
      ],
      "metadata": {
        "id": "R_4OapH8fmsq"
      },
      "execution_count": 12,
      "outputs": []
    },
    {
      "cell_type": "code",
      "source": [
        "#antes de executar esses comandos, lembre de inicializar o arquivo numeros.txt\n",
        "def calcular_soma(lista):\n",
        "    return sum(lista)\n",
        "\n",
        "nome_arquivo = \"numeros.txt\"\n",
        "\n",
        "soma_total = 0\n",
        "\n",
        "try:\n",
        "    with open(nome_arquivo, \"r\") as arquivo:\n",
        "        for linha in arquivo:\n",
        "            try:\n",
        "                numero = float(linha)\n",
        "                soma_linha = calcular_soma([numero])\n",
        "                print(f\"Soma da linha: {soma_linha}\")\n",
        "                soma_total += soma_linha\n",
        "            except ValueError:\n",
        "                print(f\"A linha '{linha.strip()}' não contém um número real válido.\")\n",
        "except FileNotFoundError:\n",
        "    print(f\"O arquivo '{nome_arquivo}' não foi encontrado.\")\n",
        "\n",
        "\n",
        "print(f\"Soma total: {soma_total}\")\n"
      ],
      "metadata": {
        "colab": {
          "base_uri": "https://localhost:8080/"
        },
        "id": "BMx9a6nzfK74",
        "outputId": "2ff5cac9-e9fa-402d-fa89-6ab2e3890a9f"
      },
      "execution_count": 13,
      "outputs": [
        {
          "output_type": "stream",
          "name": "stdout",
          "text": [
            "Soma da linha: 1.0\n",
            "Soma da linha: 2.0\n",
            "Soma da linha: 3.0\n",
            "Soma da linha: 4.0\n",
            "Soma da linha: 5.0\n",
            "Soma da linha: 6.0\n",
            "Soma da linha: 7.0\n",
            "Soma da linha: 8.0\n",
            "Soma da linha: 9.0\n",
            "Soma da linha: 10.0\n",
            "Soma da linha: 10.0\n",
            "Soma da linha: 20.0\n",
            "Soma da linha: 30.0\n",
            "Soma da linha: 40.0\n",
            "Soma da linha: 50.0\n",
            "Soma da linha: 60.0\n",
            "Soma da linha: 70.0\n",
            "Soma da linha: 80.0\n",
            "Soma da linha: 90.0\n",
            "Soma da linha: 100.0\n",
            "Soma total: 605.0\n"
          ]
        }
      ]
    },
    {
      "cell_type": "markdown",
      "source": [
        "# **Matrizes**"
      ],
      "metadata": {
        "id": "jw20ZrTgisHe"
      }
    },
    {
      "cell_type": "code",
      "source": [
        "#matrizes em python:\n",
        "\n",
        "linha_zeros = [0] * 5\n",
        "A = [linha_zeros] * 5\n",
        "A[0][0] = 2\n",
        "print(A)\n"
      ],
      "metadata": {
        "colab": {
          "base_uri": "https://localhost:8080/"
        },
        "id": "R8cJ5l50iubc",
        "outputId": "b1bdaed8-9c4b-4049-d328-662772041bbe"
      },
      "execution_count": 21,
      "outputs": [
        {
          "output_type": "stream",
          "name": "stdout",
          "text": [
            "[[2, 0, 0, 0, 0], [2, 0, 0, 0, 0], [2, 0, 0, 0, 0], [2, 0, 0, 0, 0], [2, 0, 0, 0, 0]]\n"
          ]
        }
      ]
    },
    {
      "cell_type": "code",
      "source": [
        "#estarei usando a notação m(linhas) x n(colunas) para me referir a matrizes\n",
        "\n",
        "\n",
        "def matriz(m, n, valor):\n",
        "  matriz = []\n",
        "  for i in range(m):\n",
        "    linha = []\n",
        "    for j in range(n):\n",
        "      linha += [valor]\n",
        "    matriz += [linha]\n",
        "\n",
        "  return matriz\n",
        "\n",
        "A = matriz(3, 3, 0)\n",
        "A[0][0] = 1\n",
        "A[0][1] = 2\n",
        "A[0][2] = 3\n",
        "A[1][0] = 4\n",
        "A[1][1] = 5\n",
        "A[1][2] = 6\n",
        "A[2][0] = 7\n",
        "A[2][1] = 8\n",
        "A[2][2] = 9\n",
        "print(A)\n"
      ],
      "metadata": {
        "colab": {
          "base_uri": "https://localhost:8080/"
        },
        "id": "Nlv4wKGNjPqS",
        "outputId": "0514151a-7a34-4452-d874-2460e82c0e25"
      },
      "execution_count": 43,
      "outputs": [
        {
          "output_type": "stream",
          "name": "stdout",
          "text": [
            "[[1, 2, 3], [4, 5, 6], [7, 8, 9]]\n"
          ]
        }
      ]
    },
    {
      "cell_type": "code",
      "source": [
        "# outro codigo que foi pode ser feito de outra maneira:\n",
        "def matriz(m, n, valor):\n",
        "  matriz = []\n",
        "  contador = 1  # usamos o contador para podermos incrementar a matriz\n",
        "\n",
        "  for i in range(m):\n",
        "    linha = []\n",
        "    for j in range(n):\n",
        "      linha += [contador]\n",
        "      contador += 1\n",
        "    matriz += [linha]\n",
        "\n",
        "  return matriz\n",
        "\n",
        "A = matriz(5, 5, 0)\n",
        "\n",
        "print(A)\n"
      ],
      "metadata": {
        "colab": {
          "base_uri": "https://localhost:8080/"
        },
        "id": "gwxomwokmPuI",
        "outputId": "fc550b06-9082-4722-b675-13c059fa78e7"
      },
      "execution_count": 56,
      "outputs": [
        {
          "output_type": "stream",
          "name": "stdout",
          "text": [
            "[[1, 2, 3, 4, 5], [6, 7, 8, 9, 10], [11, 12, 13, 14, 15], [16, 17, 18, 19, 20], [21, 22, 23, 24, 25]]\n"
          ]
        }
      ]
    },
    {
      "cell_type": "markdown",
      "source": [
        "Ex. 21 - Escreva a função a ler_matriz() a seguir. Abaixo esta um exemplo com um passo a passo da execução da função, M x N quaisquer."
      ],
      "metadata": {
        "id": "io9aDzbDnMyf"
      }
    },
    {
      "cell_type": "code",
      "source": [
        "def ler_matriz():\n",
        "    M = int(input(\"Digite o número de linhas da matriz: \"))\n",
        "    N = int(input(\"Digite o número de colunas da matriz: \"))\n",
        "\n",
        "    matriz = []\n",
        "    for i in range(M):\n",
        "        linha = []\n",
        "        for j in range(N):\n",
        "            valor = float(input(f\"Digite o valor para a posição ({i+1}, {j+1}): \"))\n",
        "            linha.append(valor)\n",
        "        matriz.append(linha)\n",
        "\n",
        "    return matriz\n",
        "\n",
        "def imprimir_matriz(matriz):\n",
        "    for linha in matriz:\n",
        "        for valor in linha:\n",
        "            print(valor, end=\"\\t\")\n",
        "        print()\n",
        "\n",
        "matriz = ler_matriz()\n",
        "\n",
        "print(\"Matriz lida:\")\n",
        "imprimir_matriz(matriz)\n"
      ],
      "metadata": {
        "colab": {
          "base_uri": "https://localhost:8080/"
        },
        "id": "lk44vt8GnSaS",
        "outputId": "4f1098d1-b627-420b-b35c-53ad64aac028"
      },
      "execution_count": 58,
      "outputs": [
        {
          "output_type": "stream",
          "name": "stdout",
          "text": [
            "Digite o número de linhas da matriz: 2\n",
            "Digite o número de colunas da matriz: 2\n",
            "Digite o valor para a posição (1, 1): 1\n",
            "Digite o valor para a posição (1, 2): 2\n",
            "Digite o valor para a posição (2, 1): 3\n",
            "Digite o valor para a posição (2, 2): 4\n",
            "Matriz lida:\n",
            "1.0\t2.0\t\n",
            "3.0\t4.0\t\n"
          ]
        }
      ]
    },
    {
      "cell_type": "code",
      "source": [
        "#mesmo codigo só que sem escolher os valores da matriz\n",
        "\n",
        "import random # estou usando o random para pegar numeros aleatorios e gerar a matriz\n",
        "\n",
        "M = int(input(\"Digite o número de linhas da matriz: \"))\n",
        "N = int(input(\"Digite o número de colunas da matriz: \"))\n",
        "\n",
        "matriz = [[random.randint(1, 1000) for j in range(N)] for i in range(M)]\n",
        "\n",
        "print(\"Matriz gerada:\")\n",
        "for linha in matriz:\n",
        "    for valor in linha:\n",
        "        print(valor, end=\"\\t\")\n",
        "    print()\n"
      ],
      "metadata": {
        "colab": {
          "base_uri": "https://localhost:8080/"
        },
        "id": "8AvO4iMKnr4Y",
        "outputId": "37fdf297-de0a-45a8-82ba-9fec753370ee"
      },
      "execution_count": 61,
      "outputs": [
        {
          "output_type": "stream",
          "name": "stdout",
          "text": [
            "Digite o número de linhas da matriz: 15\n",
            "Digite o número de colunas da matriz: 15\n",
            "Matriz gerada:\n",
            "538\t776\t76\t140\t458\t305\t221\t405\t633\t650\t749\t843\t628\t492\t445\t\n",
            "484\t965\t718\t734\t781\t61\t79\t62\t697\t110\t638\t398\t140\t188\t611\t\n",
            "167\t70\t390\t182\t609\t286\t320\t639\t929\t254\t973\t309\t961\t64\t187\t\n",
            "282\t680\t96\t11\t554\t99\t119\t585\t888\t680\t214\t837\t576\t915\t507\t\n",
            "429\t79\t809\t356\t528\t488\t358\t912\t776\t15\t428\t35\t369\t931\t801\t\n",
            "927\t473\t744\t920\t254\t701\t648\t802\t444\t788\t267\t306\t818\t877\t735\t\n",
            "589\t587\t293\t21\t318\t137\t411\t666\t229\t169\t529\t748\t627\t121\t440\t\n",
            "956\t194\t598\t528\t481\t287\t791\t898\t850\t183\t682\t794\t291\t237\t766\t\n",
            "368\t34\t725\t413\t619\t996\t623\t321\t381\t400\t522\t835\t18\t472\t311\t\n",
            "793\t832\t260\t227\t622\t460\t676\t850\t749\t693\t9\t251\t432\t624\t392\t\n",
            "296\t92\t47\t745\t87\t400\t844\t265\t529\t164\t798\t451\t528\t555\t631\t\n",
            "982\t193\t837\t720\t462\t745\t682\t852\t166\t274\t942\t396\t208\t23\t686\t\n",
            "367\t322\t138\t994\t481\t383\t683\t457\t532\t70\t940\t56\t140\t428\t117\t\n",
            "596\t201\t258\t670\t205\t532\t919\t879\t33\t541\t896\t459\t660\t171\t797\t\n",
            "823\t570\t83\t863\t833\t789\t755\t698\t40\t630\t309\t111\t710\t472\t378\t\n"
          ]
        }
      ]
    },
    {
      "cell_type": "markdown",
      "source": [
        "Ex. 22 - Escreva um programa que lê `n` e uma `matriz A` de inteiros de `dimensão m x n`, e verifica se A é simétrica. Pode utilizar um dos codigos passados, para realizar esse exercicio."
      ],
      "metadata": {
        "id": "ITbeh7AZ6h5o"
      }
    },
    {
      "cell_type": "code",
      "source": [
        "def ler_matriz():\n",
        "    M = int(input(\"Digite o número de linhas da matriz: \"))\n",
        "    N = int(input(\"Digite o número de colunas da matriz: \"))\n",
        "\n",
        "    matriz = []\n",
        "    for i in range(M):\n",
        "        linha = []\n",
        "        for j in range(N):\n",
        "            valor = float(input(f\"Digite o valor para a posição ({i+1}, {j+1}): \"))\n",
        "            linha.append(valor)\n",
        "        matriz.append(linha)\n",
        "\n",
        "    return matriz\n",
        "\n",
        "def imprimir_matriz(matriz):\n",
        "    for linha in matriz:\n",
        "        for valor in linha:\n",
        "            print(valor, end=\"\\t\")\n",
        "        print()\n",
        "\n",
        "\"\"\"\n",
        "\n",
        "quais as formas de provar que uma matriz é simetrica :\n",
        "    # Verificar se o número de linhas é igual ao número de colunas\n",
        "    # Verificar se a matriz é igual à sua transposta\n",
        "\"\"\"\n",
        "\n",
        "\n",
        "\n",
        "def matriz_simetrica(matriz):\n",
        "    if len(matriz) != len(matriz[0]):\n",
        "        return False\n",
        "    transposta = [[matriz[j][i] for j in range(len(matriz))] for i in range(len(matriz[0]))]\n",
        "    return matriz == transposta\n",
        "\n",
        "matriz = ler_matriz()\n",
        "\n",
        "print(\"Matriz lida:\")\n",
        "imprimir_matriz(matriz)\n",
        "\n",
        "if matriz_simetrica(matriz):\n",
        "    print(\"A matriz é simétrica.\")\n",
        "else:\n",
        "    print(\"A matriz não é simétrica.\")\n"
      ],
      "metadata": {
        "colab": {
          "base_uri": "https://localhost:8080/"
        },
        "id": "1OgPeSlk7JSz",
        "outputId": "a07ea4f5-32de-40c2-be30-380cf73cf7d7"
      },
      "execution_count": 63,
      "outputs": [
        {
          "output_type": "stream",
          "name": "stdout",
          "text": [
            "Digite o número de linhas da matriz: 3\n",
            "Digite o número de colunas da matriz: 3\n",
            "Digite o valor para a posição (1, 1): 5\n",
            "Digite o valor para a posição (1, 2): 1\n",
            "Digite o valor para a posição (1, 3): 2\n",
            "Digite o valor para a posição (2, 1): 1\n",
            "Digite o valor para a posição (2, 2): 6\n",
            "Digite o valor para a posição (2, 3): 3\n",
            "Digite o valor para a posição (3, 1): 2\n",
            "Digite o valor para a posição (3, 2): 3\n",
            "Digite o valor para a posição (3, 3): 8\n",
            "Matriz lida:\n",
            "5.0\t1.0\t2.0\t\n",
            "1.0\t6.0\t3.0\t\n",
            "2.0\t3.0\t8.0\t\n",
            "A matriz é simétrica.\n"
          ]
        }
      ]
    },
    {
      "cell_type": "markdown",
      "source": [
        "Ex. 23 - Escreva um programa que leia inteiros positivos m e n e os elementos de uma matriz A de números inteiros de dimensão m x n e conta o número de linhas e colunas que tem apenas zeros."
      ],
      "metadata": {
        "id": "9ZwwVXho8Zsh"
      }
    },
    {
      "cell_type": "code",
      "source": [
        "def contar_linhas_zeros(matriz):\n",
        "    m = len(matriz)\n",
        "    n = len(matriz[0])\n",
        "\n",
        "    linhas_de_zeros = 0\n",
        "    colunas_de_zeros = 0\n",
        "\n",
        "    for i in range(m):\n",
        "        if all(matriz[i][j] == 0 for j in range(n)):\n",
        "            linhas_de_zeros += 1\n",
        "\n",
        "    for j in range(n):\n",
        "        if all(matriz[i][j] == 0 for i in range(m)):\n",
        "            colunas_de_zeros += 1\n",
        "\n",
        "    return linhas_de_zeros, colunas_de_zeros\n",
        "\n",
        "m = int(input(\"Digite o número de linhas da matriz: \"))\n",
        "n = int(input(\"Digite o número de colunas da matriz: \"))\n",
        "\n",
        "matriz = []\n",
        "for i in range(m):\n",
        "    linha = []\n",
        "    for j in range(n):\n",
        "        elemento = int(input(f\"Digite o elemento da posição ({i+1},{j+1}): \"))\n",
        "        linha.append(elemento)\n",
        "    matriz.append(linha)\n",
        "\n",
        "linhas_zeros, colunas_zeros = contar_linhas_zeros(matriz)\n",
        "\n",
        "print(f\"Número de linhas com apenas zeros: {linhas_zeros}\")\n",
        "print(f\"Número de colunas com apenas zeros: {colunas_zeros}\")\n"
      ],
      "metadata": {
        "colab": {
          "base_uri": "https://localhost:8080/"
        },
        "id": "ENfM7c1G8bO8",
        "outputId": "4c6e1731-59ae-4a45-8c17-ebf2aa3f0d7f"
      },
      "execution_count": 65,
      "outputs": [
        {
          "output_type": "stream",
          "name": "stdout",
          "text": [
            "Digite o número de linhas da matriz: 2\n",
            "Digite o número de colunas da matriz: 2\n",
            "Digite o elemento da posição (1,1): 0\n",
            "Digite o elemento da posição (1,2): 0\n",
            "Digite o elemento da posição (2,1): 0\n",
            "Digite o elemento da posição (2,2): 1\n",
            "Número de linhas com apenas zeros: 1\n",
            "Número de colunas com apenas zeros: 1\n"
          ]
        }
      ]
    },
    {
      "cell_type": "markdown",
      "source": [
        "Ex. 25 - crie um algoritmo para multiplicar `x` matrizes de tamanhos `m x n ` quaisquer. ***Lembrando que para multiplicar matrizes, é necessario verificar se as dimensões das matrizes são compatíveis***"
      ],
      "metadata": {
        "id": "Lv7clReT9rYT"
      }
    },
    {
      "cell_type": "code",
      "source": [
        "# aqui uso python nativo e listas para realizar esse desafio.\n",
        "\n",
        "def multiplicar_matrizes(matrizes):\n",
        "    if len(matrizes) < 2:\n",
        "        raise ValueError(\"É necessário fornecer pelo menos duas matrizes para multiplicar.\")\n",
        "\n",
        "\n",
        "    for i in range(1, len(matrizes)):\n",
        "        if len(matrizes[i - 1][0]) != len(matrizes[i]):\n",
        "            raise ValueError(\"As dimensões das matrizes não são compatíveis para multiplicação.\")\n",
        "\n",
        "    resultado = matrizes[0]\n",
        "\n",
        "    for i in range(1, len(matrizes)):\n",
        "        matriz_atual = matrizes[i]\n",
        "        m1 = len(resultado)\n",
        "        n1 = len(resultado[0])\n",
        "        m2 = len(matriz_atual)\n",
        "        n2 = len(matriz_atual)\n",
        "\n",
        "        if n1 != m2:\n",
        "            raise ValueError(\"As dimensões das matrizes não são compatíveis para multiplicação.\")\n",
        "\n",
        "        novo_resultado = []\n",
        "\n",
        "        for i in range(m1):\n",
        "            linha = []\n",
        "            for j in range(n2):\n",
        "                elemento = 0\n",
        "                for k in range(n1):\n",
        "                    elemento += resultado[i][k] * matriz_atual[k][j]\n",
        "                linha.append(elemento)\n",
        "            novo_resultado.append(linha)\n",
        "\n",
        "        resultado = novo_resultado\n",
        "\n",
        "    return resultado\n",
        "\n",
        "\n",
        "\n",
        "# realizando os testes\n",
        "matriz1 = [[1, 2], [3, 4]]\n",
        "matriz2 = [[5, 6], [7, 8]]\n",
        "matriz3 = [[9, 10], [11, 12]]\n",
        "\n",
        "matrizes = [matriz1, matriz2, matriz3]\n",
        "\n",
        "resultado = multiplicar_matrizes(matrizes)\n",
        "for linha in resultado:\n",
        "    print(linha)\n"
      ],
      "metadata": {
        "colab": {
          "base_uri": "https://localhost:8080/"
        },
        "id": "WP_t-p-Z9684",
        "outputId": "937cd6ae-f3d5-4abd-d4a2-886888c05529"
      },
      "execution_count": 68,
      "outputs": [
        {
          "output_type": "stream",
          "name": "stdout",
          "text": [
            "[413, 454]\n",
            "[937, 1030]\n"
          ]
        }
      ]
    },
    {
      "cell_type": "markdown",
      "source": [
        "caso no codigo acima vc receba esse erro:\n",
        "![image.png](data:image/png;base64,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)\n",
        "apenas altere os valores da sua matriz para valores válidos."
      ],
      "metadata": {
        "id": "JDjjvkVT_Ib2"
      }
    },
    {
      "cell_type": "code",
      "source": [
        "# outra solução usando a biblioteca NumPy:\n",
        "\n",
        "import numpy as np\n",
        "\n",
        "def multiplicar_matrizes(matrizes):\n",
        "    if len(matrizes) < 2:\n",
        "        raise ValueError(\"É necessário fornecer pelo menos duas matrizes para multiplicar.\")\n",
        "    resultado = matrizes[0]\n",
        "\n",
        "    for i in range(1, len(matrizes)):\n",
        "        matriz_atual = matrizes[i]\n",
        "        if resultado.shape[1] != matriz_atual.shape[0]:\n",
        "            raise ValueError(\"As dimensões das matrizes não são compatíveis para multiplicação.\")\n",
        "        resultado = np.dot(resultado, matriz_atual)\n",
        "    return resultado\n",
        "\n",
        "matriz1 = np.array([[1, 2], [3, 4]])\n",
        "matriz2 = np.array([[5, 6], [7, 8]])\n",
        "matriz3 = np.array([[9, 10], [11, 12]])\n",
        "\n",
        "matrizes = [matriz1, matriz2, matriz3]\n",
        "\n",
        "resultado = multiplicar_matrizes(matrizes)\n",
        "print(resultado)\n"
      ],
      "metadata": {
        "colab": {
          "base_uri": "https://localhost:8080/"
        },
        "id": "7lNdt8yd-DmU",
        "outputId": "86abaace-b62c-4531-9437-80aadc059979"
      },
      "execution_count": 69,
      "outputs": [
        {
          "output_type": "stream",
          "name": "stdout",
          "text": [
            "[[ 413  454]\n",
            " [ 937 1030]]\n"
          ]
        }
      ]
    },
    {
      "cell_type": "markdown",
      "source": [
        "Ex. 25 - Escreva um programa que leia duas matrizes, a `matriz A` de dimensão `m x n` e `B` de dimensão `n x p` e imprime a matriz C de dimensão `m x p` que é o **produto de A por B.**"
      ],
      "metadata": {
        "id": "872Vy9j4_4V7"
      }
    },
    {
      "cell_type": "code",
      "source": [
        "def ler_matriz(rows, cols):\n",
        "    matriz = []\n",
        "    for i in range(rows):\n",
        "        linha = []\n",
        "        for j in range(cols):\n",
        "            valor = float(input(f\"Digite o valor da posição ({i+1},{j+1}): \"))\n",
        "            linha.append(valor)\n",
        "        matriz.append(linha)\n",
        "    return matriz\n",
        "\n",
        "def imprimir_matriz(matriz):\n",
        "    for linha in matriz:\n",
        "        for valor in linha:\n",
        "            print(valor, end='\\t')\n",
        "        print()\n",
        "\n",
        "def multiplicar_matriz(matriz_a, matriz_b):\n",
        "    if len(matriz_a[0]) != len(matriz_b):\n",
        "        return None\n",
        "    m = len(matriz_a)\n",
        "    n = len(matriz_a[0])\n",
        "    p = len(matriz_b[0])\n",
        "\n",
        "    matriz_c = [[0 for _ in range(p)] for _ in range(m)]\n",
        "\n",
        "    for i in range(m):\n",
        "        for j in range(p):\n",
        "            for k in range(n):\n",
        "                matriz_c[i][j] += matriz_a[i][k] * matriz_b[k][j]\n",
        "\n",
        "    return matriz_c\n",
        "\n",
        "m = int(input(\"Digite o número de linhas da matriz A: \"))\n",
        "n = int(input(\"Digite o número de colunas da matriz A (e número de linhas da matriz B): \"))\n",
        "p = int(input(\"Digite o número de colunas da matriz B: \"))\n",
        "\n",
        "print(\"Digite a matriz A:\")\n",
        "matriz_a = ler_matriz(m, n)\n",
        "\n",
        "print(\"Digite a matriz B:\")\n",
        "matriz_b = ler_matriz(n, p)\n",
        "\n",
        "matriz_c = multiplicar_matriz(matriz_a, matriz_b)\n",
        "\n",
        "if matriz_c is not None:\n",
        "    print(\"\\nMatriz C (Resultado da multiplicação de A por B):\")\n",
        "    imprimir_matriz(matriz_c)\n",
        "else:\n",
        "    print(\"\\nNão é possível multiplicar as matrizes A e B devido às dimensões incompatíveis.\")\n",
        "\n"
      ],
      "metadata": {
        "colab": {
          "base_uri": "https://localhost:8080/"
        },
        "id": "v50WzlRAAI0c",
        "outputId": "03eb337b-5543-48ce-ea0a-f4fbd33ede98"
      },
      "execution_count": 70,
      "outputs": [
        {
          "output_type": "stream",
          "name": "stdout",
          "text": [
            "Digite o número de linhas da matriz A: 3\n",
            "Digite o número de colunas da matriz A (e número de linhas da matriz B): 3\n",
            "Digite o número de colunas da matriz B: 3\n",
            "Digite a matriz A:\n",
            "Digite o valor da posição (1,1): 1\n",
            "Digite o valor da posição (1,2): 2\n",
            "Digite o valor da posição (1,3): 3\n",
            "Digite o valor da posição (2,1): 4\n",
            "Digite o valor da posição (2,2): 5\n",
            "Digite o valor da posição (2,3): 6\n",
            "Digite o valor da posição (3,1): 7\n",
            "Digite o valor da posição (3,2): 8\n",
            "Digite o valor da posição (3,3): 9\n",
            "Digite a matriz B:\n",
            "Digite o valor da posição (1,1): 9\n",
            "Digite o valor da posição (1,2): 8\n",
            "Digite o valor da posição (1,3): 7\n",
            "Digite o valor da posição (2,1): 6\n",
            "Digite o valor da posição (2,2): 5\n",
            "Digite o valor da posição (2,3): 4\n",
            "Digite o valor da posição (3,1): 3\n",
            "Digite o valor da posição (3,2): 2\n",
            "Digite o valor da posição (3,3): 1\n",
            "\n",
            "Matriz C (Resultado da multiplicação de A por B):\n",
            "30.0\t24.0\t18.0\t\n",
            "84.0\t69.0\t54.0\t\n",
            "138.0\t114.0\t90.0\t\n"
          ]
        }
      ]
    },
    {
      "cell_type": "markdown",
      "source": [
        "Ex. 26.1 - Escreva uma função que recebe um inteiro lin e uma matriz real A e outro inteiro col e uma matriz real B, e calcula a soma do produto entre os elementos da linha lin de A e com os respectivos elementos da coluna col de B. Você deve considerar que o número de colunas de A é o mesmo número de linhas de B."
      ],
      "metadata": {
        "id": "jbdS8dXeAiYU"
      }
    },
    {
      "cell_type": "code",
      "source": [
        "def produto_lincol(lin, a_mat, col, b_mat):\n",
        "    if len(a_mat[0]) != len(b_mat):\n",
        "        raise ValueError(\"O número de colunas de a_mat deve ser igual ao número de linhas de b_mat.\")\n",
        "    soma = 0.0\n",
        "    for i in range(len(a_mat[lin])):\n",
        "        soma += a_mat[lin][i] * b_mat[i][col]\n",
        "\n",
        "    return soma\n",
        "\n",
        "A = [[1, 2, 1],\n",
        "     [2, 2, 2],\n",
        "     [1, 3, 2]]\n",
        "B = [[1, 1],\n",
        "     [2, 0],\n",
        "     [0, 1]]\n",
        "resultado = produto_lincol(2, A, 0, B)\n",
        "print(\"Resultado:\", resultado)\n"
      ],
      "metadata": {
        "colab": {
          "base_uri": "https://localhost:8080/"
        },
        "id": "B8y4XOAFAwjG",
        "outputId": "05784025-7c26-4d79-f853-4393751fee48"
      },
      "execution_count": 82,
      "outputs": [
        {
          "output_type": "stream",
          "name": "stdout",
          "text": [
            "Resultado: 7.0\n"
          ]
        }
      ]
    },
    {
      "cell_type": "markdown",
      "source": [
        "Ex. 26.2 - Utilizando a função do item anterior, escreva um programa que leia duas matrizes, a matriz A de dimensão m x n e B de dimensão n x p e imprime a matriz C de dimensão m x p que é o produto de A por B.\n",
        "\n"
      ],
      "metadata": {
        "id": "WgSEwfDXBzTP"
      }
    },
    {
      "cell_type": "code",
      "source": [
        "def produto_lincol(lin, a_mat, col, b_mat):\n",
        "    if len(a_mat[0]) != len(b_mat):\n",
        "        raise ValueError(\"O número de colunas de a_mat deve ser igual ao número de linhas de b_mat.\")\n",
        "\n",
        "    soma = 0.0\n",
        "    for i in range(len(a_mat[lin])):\n",
        "        soma += a_mat[lin][i] * b_mat[i][col]\n",
        "\n",
        "    return soma\n",
        "\n",
        "def multiplicar_matrizes(A, B):\n",
        "    if len(A[0]) != len(B):\n",
        "        raise ValueError(\"O número de colunas de A deve ser igual ao número de linhas de B.\")\n",
        "\n",
        "    m = len(A)\n",
        "    n = len(A[0])\n",
        "    p = len(B[0])\n",
        "\n",
        "    C = [[0 for _ in range(p)] for _ in range(m)]\n",
        "\n",
        "    for i in range(m):\n",
        "        for j in range(p):\n",
        "            C[i][j] = produto_lincol(i, A, j, B)\n",
        "\n",
        "    return C\n",
        "\n",
        "m = int(input(\"Digite o número de linhas de A: \"))\n",
        "n = int(input(\"Digite o número de colunas de A / número de linhas de B: \"))\n",
        "p = int(input(\"Digite o número de colunas de B: \"))\n",
        "\n",
        "A = []\n",
        "print(\"Digite os elementos da matriz A:\")\n",
        "for _ in range(m):\n",
        "    linha = [float(input()) for _ in range(n)]\n",
        "    A.append(linha)\n",
        "\n",
        "B = []\n",
        "print(\"Digite os elementos da matriz B:\")\n",
        "for _ in range(n):\n",
        "    linha = [float(input()) for _ in range(p)]\n",
        "    B.append(linha)\n",
        "\n",
        "C = multiplicar_matrizes(A, B)\n",
        "\n",
        "print(\"Matriz C (produto de A por B):\")\n",
        "for linha in C:\n",
        "    for elemento in linha:\n",
        "        print(elemento, end=\"\\t\")\n",
        "    print()\n"
      ],
      "metadata": {
        "colab": {
          "base_uri": "https://localhost:8080/"
        },
        "id": "OOQOGCAZB0_K",
        "outputId": "e99d36c2-f964-4cd3-f9f5-99285ef1bc51"
      },
      "execution_count": 83,
      "outputs": [
        {
          "output_type": "stream",
          "name": "stdout",
          "text": [
            "Digite o número de linhas de A: 3\n",
            "Digite o número de colunas de A / número de linhas de B: 3\n",
            "Digite o número de colunas de B: 3\n",
            "Digite os elementos da matriz A:\n",
            "1\n",
            "2\n",
            "3\n",
            "4\n",
            "5\n",
            "6\n",
            "7\n",
            "8\n",
            "9\n",
            "Digite os elementos da matriz B:\n",
            "9\n",
            "8\n",
            "7\n",
            "6\n",
            "5\n",
            "4\n",
            "3\n",
            "2\n",
            "1\n",
            "Matriz C (produto de A por B):\n",
            "30.0\t24.0\t18.0\t\n",
            "84.0\t69.0\t54.0\t\n",
            "138.0\t114.0\t90.0\t\n"
          ]
        }
      ]
    },
    {
      "cell_type": "markdown",
      "source": [
        "Ex. 27.1 - Escreva uma função MAX que recebe como entrada uma matriz inteira A e devolve três inteiros: k, lin e col. O inteiro k é um maior elemento de A e é igual a A[lin,col].\n",
        "\n",
        "    '''\n",
        "    (matriz) -> int, int, int\n",
        "\n",
        "    Recebe uma matriz A e devolve 3 inteiros:\n",
        "    k (um maior valor), e sua posição lin, col.\n",
        "    '''"
      ],
      "metadata": {
        "id": "hXJhVw-0CRVc"
      }
    },
    {
      "cell_type": "code",
      "source": [
        "def acha_max(A):\n",
        "    max_valor = A[0][0]\n",
        "    lin = col = 0\n",
        "    for i in range(len(A)):\n",
        "        for j in range(len(A[i])):\n",
        "            if A[i][j] >= max_valor:\n",
        "                max_valor = A[i][j]\n",
        "                lin = i\n",
        "                col = j\n",
        "    return max_valor, lin, col\n",
        "\n",
        "\n",
        "A = [[3, 7, 1], [1, 2, 8], [5, 3, 4]]\n",
        "k, lin, col = acha_max(A)\n",
        "print(f\"O maior valor é {k} e está na posição ({lin}, {col})\")\n"
      ],
      "metadata": {
        "colab": {
          "base_uri": "https://localhost:8080/"
        },
        "id": "rVqO6126CU7Q",
        "outputId": "19315eaf-6731-4458-cdfc-0f61da8c9104"
      },
      "execution_count": 91,
      "outputs": [
        {
          "output_type": "stream",
          "name": "stdout",
          "text": [
            "O maior valor é 8 e está na posição (1, 2)\n"
          ]
        }
      ]
    },
    {
      "cell_type": "markdown",
      "source": [
        "Ex. 27.2 - Escreva um programa que, dado dois inteiros nl e nc e uma matriz quadrada de dimensão nl x nc, cujos elementos são todos inteiros, imprime uma tabela onde os elementos são listados em ordem decrescente, acompanhados da indicação de linha e coluna a que pertencem. Havendo repetições de elementos na matriz, a ordem é irrelevante. Utilize obrigatoriamente o procedimento da parte A, mesmo que você não o tenha feito.\n",
        "\n",
        "    '''\n",
        "    (matriz) -> int, int, int\n",
        "\n",
        "    Recebe uma matriz A e devolve 3 inteiros:\n",
        "    k (um maior valor), e sua posição lin, col.\n",
        "   \n",
        "    '''"
      ],
      "metadata": {
        "id": "SBo2I3YvC-OC"
      }
    },
    {
      "cell_type": "code",
      "source": [
        "def ler_matriz(nl, nc):\n",
        "    matriz = []\n",
        "    for i in range(nl):\n",
        "        linha = []\n",
        "        for j in range(nc):\n",
        "            elemento = int(input(f\"Digite o elemento da linha {i+1}, coluna {j+1}: \"))\n",
        "            linha.append(elemento)\n",
        "        matriz.append(linha)\n",
        "    return matriz\n",
        "\n",
        "def imprime_matriz_em_ordem_decrescente(matriz):\n",
        "    elementos = [elemento for linha in matriz for elemento in linha]\n",
        "\n",
        "    elementos.sort(reverse=True)\n",
        "\n",
        "    for elemento in elementos:\n",
        "        print(elemento)\n",
        "\n",
        "nl = int(input(\"Digite o número de linhas: \"))\n",
        "nc = int(input(\"Digite o número de colunas: \"))\n",
        "matriz = ler_matriz(nl, nc)\n",
        "\n",
        "print(\"Valores em ordem decrescente:\")\n",
        "imprime_matriz_em_ordem_decrescente(matriz)\n"
      ],
      "metadata": {
        "colab": {
          "base_uri": "https://localhost:8080/"
        },
        "id": "R6c8eLJ8DApg",
        "outputId": "adc5c168-26dc-411a-ba51-731472479fb5"
      },
      "execution_count": 94,
      "outputs": [
        {
          "output_type": "stream",
          "name": "stdout",
          "text": [
            "Digite o número de linhas: 3\n",
            "Digite o número de colunas: 3\n",
            "Digite o elemento da linha 1, coluna 1: 1\n",
            "Digite o elemento da linha 1, coluna 2: 2\n",
            "Digite o elemento da linha 1, coluna 3: 4\n",
            "Digite o elemento da linha 2, coluna 1: 5\n",
            "Digite o elemento da linha 2, coluna 2: 6\n",
            "Digite o elemento da linha 2, coluna 3: 8\n",
            "Digite o elemento da linha 3, coluna 1: 7\n",
            "Digite o elemento da linha 3, coluna 2: 10\n",
            "Digite o elemento da linha 3, coluna 3: 12\n",
            "Valores em ordem decrescente:\n",
            "12\n",
            "10\n",
            "8\n",
            "7\n",
            "6\n",
            "5\n",
            "4\n",
            "2\n",
            "1\n"
          ]
        }
      ]
    },
    {
      "cell_type": "markdown",
      "source": [
        "DESAFIO - Faça uma \"copia\" do jogo campo minado usando Matrizes"
      ],
      "metadata": {
        "id": "zvYglpicEApV"
      }
    },
    {
      "cell_type": "code",
      "source": [
        "import random\n",
        "\n",
        "def criar_tabuleiro(linhas, colunas, minas):\n",
        "    tabuleiro = [[' ' for _ in range(colunas)] for _ in range(linhas)]\n",
        "    minas_colocadas = 0\n",
        "\n",
        "    while minas_colocadas < minas:\n",
        "        x = random.randint(0, linhas - 1)\n",
        "        y = random.randint(0, colunas - 1)\n",
        "\n",
        "        if tabuleiro[x][y] != 'M':\n",
        "            tabuleiro[x][y] = 'M'\n",
        "            minas_colocadas += 1\n",
        "\n",
        "    return tabuleiro\n",
        "\n",
        "def mostrar_tabuleiro(tabuleiro):\n",
        "    for linha in tabuleiro:\n",
        "        print(\" \".join(linha))\n",
        "\n",
        "def contar_minas_ao_redor(tabuleiro, x, y):\n",
        "    linhas = len(tabuleiro)\n",
        "    colunas = len(tabuleiro[0])\n",
        "    minas_ao_redor = 0\n",
        "\n",
        "    for i in range(-1, 2):\n",
        "        for j in range(-1, 2):\n",
        "            if 0 <= x + i < linhas and 0 <= y + j < colunas and tabuleiro[x + i][y + j] == 'M':\n",
        "                minas_ao_redor += 1\n",
        "\n",
        "    return minas_ao_redor\n",
        "\n",
        "def jogar():\n",
        "    linhas = 5\n",
        "    colunas = 5\n",
        "    minas = 5\n",
        "    tabuleiro = criar_tabuleiro(linhas, colunas, minas)\n",
        "    mostrar_tabuleiro(tabuleiro)\n",
        "    chances_restantes = 3\n",
        "\n",
        "    while chances_restantes > 0:\n",
        "        try:\n",
        "            x = int(input(\"Escolha a linha (0 a {}): \".format(linhas - 1)))\n",
        "            y = int(input(\"Escolha a coluna (0 a {}): \".format(colunas - 1)))\n",
        "\n",
        "            if tabuleiro[x][y] == 'M':\n",
        "                print(\"Você acertou uma mina! Chances restantes:\", chances_restantes)\n",
        "                chances_restantes -= 1\n",
        "                if chances_restantes == 0:\n",
        "                    print(\"Você perdeu! Reiniciando o jogo.\")\n",
        "                    return\n",
        "            else:\n",
        "                minas_ao_redor = contar_minas_ao_redor(tabuleiro, x, y)\n",
        "                tabuleiro[x][y] = str(minas_ao_redor)\n",
        "                mostrar_tabuleiro(tabuleiro)\n",
        "\n",
        "        except (ValueError, IndexError):\n",
        "            print(\"Entrada inválida. Tente novamente.\")\n",
        "\n",
        "    print(\"Parabéns! Você ganhou!\")\n",
        "\n",
        "if __name__ == \"__main__\":\n",
        "    jogar()\n"
      ],
      "metadata": {
        "colab": {
          "base_uri": "https://localhost:8080/"
        },
        "id": "-VgVs_sYEGuB",
        "outputId": "7ff9df2a-827b-45a7-a563-2a46e1d9373c"
      },
      "execution_count": 99,
      "outputs": [
        {
          "output_type": "stream",
          "name": "stdout",
          "text": [
            "      M  \n",
            "         \n",
            "        M\n",
            "        M\n",
            "  M M    \n",
            "Escolha a linha (0 a 4): 1\n",
            "Escolha a coluna (0 a 4): 1\n",
            "      M  \n",
            "  0      \n",
            "        M\n",
            "        M\n",
            "  M M    \n",
            "Escolha a linha (0 a 4): 0\n",
            "Escolha a coluna (0 a 4): 0\n",
            "0     M  \n",
            "  0      \n",
            "        M\n",
            "        M\n",
            "  M M    \n",
            "Escolha a linha (0 a 4): 2\n",
            "Escolha a coluna (0 a 4): 2\n",
            "0     M  \n",
            "  0      \n",
            "    0   M\n",
            "        M\n",
            "  M M    \n",
            "Escolha a linha (0 a 4): 0\n",
            "Escolha a coluna (0 a 4): 4\n",
            "0     M 1\n",
            "  0      \n",
            "    0   M\n",
            "        M\n",
            "  M M    \n",
            "Escolha a linha (0 a 4): 0\n",
            "Escolha a coluna (0 a 4): 4\n",
            "0     M 1\n",
            "  0      \n",
            "    0   M\n",
            "        M\n",
            "  M M    \n",
            "Escolha a linha (0 a 4): 3\n",
            "Escolha a coluna (0 a 4): 3\n",
            "0     M 1\n",
            "  0      \n",
            "    0   M\n",
            "      3 M\n",
            "  M M    \n",
            "Escolha a linha (0 a 4): 4\n",
            "Escolha a coluna (0 a 4): 4\n",
            "0     M 1\n",
            "  0      \n",
            "    0   M\n",
            "      3 M\n",
            "  M M   1\n",
            "Escolha a linha (0 a 4): 0\n",
            "Escolha a coluna (0 a 4): 3\n",
            "Você acertou uma mina! Chances restantes: 3\n",
            "Escolha a linha (0 a 4): 0\n",
            "Escolha a coluna (0 a 4): 3\n",
            "Você acertou uma mina! Chances restantes: 2\n",
            "Escolha a linha (0 a 4): 0\n",
            "Escolha a coluna (0 a 4): 3\n",
            "Você acertou uma mina! Chances restantes: 1\n",
            "Você perdeu! Reiniciando o jogo.\n"
          ]
        }
      ]
    },
    {
      "cell_type": "markdown",
      "source": [
        "# **Otimizando seu código com Algoritmos de Busca:**"
      ],
      "metadata": {
        "id": "gKI9yafdGIS9"
      }
    },
    {
      "cell_type": "markdown",
      "source": [
        "**o que são?**\n",
        "\n",
        "são algoritmos que verificam se uma informação dada ocorre em uma sequencia ou não.\n",
        "\n",
        "Exemplo: numeros em uma lista(s) e um numero(n) como, escreva uma função que responda à pergunta: n ocorre em s?"
      ],
      "metadata": {
        "id": "yyIrq8WDGU61"
      }
    },
    {
      "cell_type": "code",
      "source": [
        "# pq nao usar apenas n in s?\n",
        "\n",
        "\n",
        "\"\"\"\n",
        "sim, pode-se usar porém ele vai retornar apenas True ou False,\n",
        "aqui meu objetivo é te ajudar a compreender mais o uso do \"in\",\n",
        "formas mais rapidas de verificar e fazer testes em seu codigo.\n",
        "\"\"\"\n",
        "\n",
        "\n",
        "def busca_sequencial(n, s):\n",
        "    for i in range(len(s)):\n",
        "        if s[i] == n:\n",
        "            return True\n",
        "    return False\n",
        "\n",
        "#basicamente agora fazemos testes unitarios. Aqui são valores n e s, mas poderiam ser numeros e cpfs, emails, nomes.\n",
        "\n",
        "# Teste 1:\n",
        "n1 = 3\n",
        "s1 = [1, 2, 3, 4, 5]\n",
        "print(busca_sequencial(n1, s1))\n",
        "\n",
        "# Teste 2:\n",
        "n2 = 25\n",
        "s2 = [10, 20, 30, 40, 50]\n",
        "print(busca_sequencial(n2, s2))\n",
        "\n",
        "# Teste 3:\n",
        "n3 = 7\n",
        "s3 = []\n",
        "print(busca_sequencial(n3, s3))\n",
        "\n",
        "# Teste 4:\n",
        "n4 = 8\n",
        "s4 = [8, 6, 7, 5, 3, 0, 9]\n",
        "print(busca_sequencial(n4, s4))\n"
      ],
      "metadata": {
        "colab": {
          "base_uri": "https://localhost:8080/"
        },
        "id": "i9q8tCxqGOCe",
        "outputId": "43c02999-a38e-4b3c-cfe7-3601cb4ff51b"
      },
      "execution_count": 107,
      "outputs": [
        {
          "output_type": "stream",
          "name": "stdout",
          "text": [
            "True\n",
            "False\n",
            "False\n",
            "True\n"
          ]
        }
      ]
    },
    {
      "cell_type": "markdown",
      "source": [
        "Ex. 28 - Escreva um programa que leia uma sequência com N números reais e imprime a sequência eliminando os elementos repetidos"
      ],
      "metadata": {
        "id": "x1tcj7LEJAYA"
      }
    },
    {
      "cell_type": "code",
      "source": [
        "def eliminar_elementos_repetidos():\n",
        "    n = int(input(\"Digite o número de elementos na sequência: \"))\n",
        "    sequencia = []\n",
        "\n",
        "    for _ in range(n):\n",
        "        numero = float(input(\"Digite um número real: \"))\n",
        "        sequencia.append(numero)\n",
        "\n",
        "    sequencia_sem_repeticao = list(set(sequencia))\n",
        "\n",
        "    print(\"Sequência sem elementos repetidos:\")\n",
        "    for numero in sequencia_sem_repeticao:\n",
        "        print(numero)\n",
        "\n",
        "if __name__ == \"__main__\":\n",
        "    eliminar_elementos_repetidos()\n"
      ],
      "metadata": {
        "colab": {
          "base_uri": "https://localhost:8080/"
        },
        "id": "RHuiaXSyJHnm",
        "outputId": "9f9ba381-1495-49e1-b553-c41f63da48ea"
      },
      "execution_count": 108,
      "outputs": [
        {
          "output_type": "stream",
          "name": "stdout",
          "text": [
            "Digite o número de elementos na sequência: 10\n",
            "Digite um número real: 1.0\n",
            "Digite um número real: 2.0\n",
            "Digite um número real: 3.5\n",
            "Digite um número real: 1.0\n",
            "Digite um número real: 5.5\n",
            "Digite um número real: 4.0\n",
            "Digite um número real: 9.9\n",
            "Digite um número real: 1.1\n",
            "Digite um número real: 2.0\n",
            "Digite um número real: 1.0\n",
            "Sequência sem elementos repetidos:\n",
            "1.0\n",
            "2.0\n",
            "3.5\n",
            "4.0\n",
            "5.5\n",
            "1.1\n",
            "9.9\n"
          ]
        }
      ]
    },
    {
      "cell_type": "markdown",
      "source": [
        "    '''\n",
        "    (float, list) -> int\n",
        "    Retorna a posição em que x ocorre na lista, ou None caso contrário\n",
        "    '''"
      ],
      "metadata": {
        "id": "uJuBdydMJg-Y"
      }
    },
    {
      "cell_type": "code",
      "source": [
        "def acha(x, seq):\n",
        "    for i in range(len(seq)):\n",
        "        if seq[i] == x:\n",
        "            return i\n",
        "    return None\n",
        "\n",
        "if __name__ == \"__main__\":\n",
        "    sequencia = [1.2, 2.5, 3.8, 4.2, 2.5]\n",
        "    valor_procurado = 2.5\n",
        "    posicao = acha(valor_procurado, sequencia)\n",
        "    if posicao is not None:\n",
        "        print(f\"{valor_procurado} foi encontrado na posição {posicao} da lista.\")\n",
        "    else:\n",
        "        print(f\"{valor_procurado} não foi encontrado na lista.\")\n"
      ],
      "metadata": {
        "colab": {
          "base_uri": "https://localhost:8080/"
        },
        "id": "mKMe1h5vJffY",
        "outputId": "3c60cc43-dbf8-428b-e33f-decc0600e1ac"
      },
      "execution_count": 110,
      "outputs": [
        {
          "output_type": "stream",
          "name": "stdout",
          "text": [
            "2.5 foi encontrado na posição 1 da lista.\n"
          ]
        }
      ]
    },
    {
      "cell_type": "code",
      "source": [
        "def acha(x, seq):\n",
        "    for i in range(len(seq)):\n",
        "        if seq[i] == x:\n",
        "            return i\n",
        "    return None\n",
        "def main():\n",
        "    n = int(input(\"Digite o número de elementos na sequência: \"))\n",
        "    sequencia = []\n",
        "\n",
        "    for _ in range(n):\n",
        "        numero = float(input(\"Digite um número real: \"))\n",
        "        sequencia.append(numero)\n",
        "    sequencia_sem_repeticao = []\n",
        "    for numero in sequencia:\n",
        "        if acha(numero, sequencia_sem_repeticao) is None:\n",
        "            sequencia_sem_repeticao.append(numero)\n",
        "    print(\"Sequência sem elementos repetidos:\")\n",
        "    for numero in sequencia_sem_repeticao:\n",
        "        print(numero)\n",
        "\n",
        "if __name__ == \"__main__\":\n",
        "    main()\n"
      ],
      "metadata": {
        "colab": {
          "base_uri": "https://localhost:8080/"
        },
        "id": "Kp91YiDrJ0EN",
        "outputId": "9417e13f-078e-4063-80c7-1f6f2a41c6d2"
      },
      "execution_count": 111,
      "outputs": [
        {
          "output_type": "stream",
          "name": "stdout",
          "text": [
            "Digite o número de elementos na sequência: 5\n",
            "Digite um número real: 1.2\n",
            "Digite um número real: 3.\n",
            "Digite um número real: 2.5\n",
            "Digite um número real: 3.5\n",
            "Digite um número real: 1.2\n",
            "Sequência sem elementos repetidos:\n",
            "1.2\n",
            "3.0\n",
            "2.5\n",
            "3.5\n"
          ]
        }
      ]
    },
    {
      "cell_type": "markdown",
      "source": [
        "Ex. 29 - ![image.png](data:image/png;base64,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)"
      ],
      "metadata": {
        "id": "v-zBo0UUKMTT"
      }
    },
    {
      "cell_type": "code",
      "source": [
        "def busca_binaria(n, s):\n",
        "    esq, dir = 0, len(s) - 1\n",
        "    while esq <= dir:\n",
        "        meio = (esq + dir) // 2\n",
        "        if s[meio] == n:\n",
        "            return meio\n",
        "        elif s[meio] < n:\n",
        "            esq = meio + 1\n",
        "        else:\n",
        "            dir = meio - 1\n",
        "    return None\n",
        "\n",
        "s = [4, 10, 80, 90, 91, 99, 100, 101]\n",
        "testes = [80, 50]\n",
        "\n",
        "for t in testes:\n",
        "    pos = busca_binaria(t, s)\n",
        "    if pos is None:\n",
        "        print(\"Não achei\", t)\n",
        "    else:\n",
        "        print(\"Achei\", t, \"na posição\", pos)\n"
      ],
      "metadata": {
        "colab": {
          "base_uri": "https://localhost:8080/"
        },
        "id": "mSpSDlVLKPU_",
        "outputId": "e60955fe-14ef-48d8-a2b4-155a9cd9fd6d"
      },
      "execution_count": 118,
      "outputs": [
        {
          "output_type": "stream",
          "name": "stdout",
          "text": [
            "Achei 80 na posição 2\n",
            "Não achei 50\n"
          ]
        }
      ]
    },
    {
      "cell_type": "markdown",
      "source": [
        "# **Algoritmos Elementares de Ordenação**"
      ],
      "metadata": {
        "id": "jcWJhSWyMg6b"
      }
    },
    {
      "cell_type": "code",
      "source": [
        "#primeiro temos o mais padrão\n"
      ],
      "metadata": {
        "id": "vjzw2URcMm3J"
      },
      "execution_count": null,
      "outputs": []
    },
    {
      "cell_type": "markdown",
      "source": [
        "Dado uma lista seq com N elementos, rearranjar os elementos de seq de tal modo que eles fiquem em ordem crescente, ou seja, de tal forma que seq[0] <= seq[1] <= … <= seq[N-1].\n",
        "\n"
      ],
      "metadata": {
        "id": "PUUAfTlHMu6f"
      }
    },
    {
      "cell_type": "code",
      "source": [
        "def main():\n",
        "    seq1 = [2, 5, 4, 8, 9, 11, 17, 21]\n",
        "\n",
        "    print(seq1)\n",
        "    if crescente(seq1):\n",
        "        print(\"é crescente\")\n",
        "    else:\n",
        "        print(\"não é crescente\")\n",
        "\n",
        "def crescente(seq):\n",
        "    for i in range(len(seq) - 1):\n",
        "        if seq[i] > seq[i + 1]:\n",
        "            return False\n",
        "    return True\n",
        "\n",
        "main()\n"
      ],
      "metadata": {
        "colab": {
          "base_uri": "https://localhost:8080/"
        },
        "id": "b_-8cAxLMuEX",
        "outputId": "108c023b-fbca-438f-d63e-c6b677f3113e"
      },
      "execution_count": 120,
      "outputs": [
        {
          "output_type": "stream",
          "name": "stdout",
          "text": [
            "[2, 5, 4, 8, 9, 11, 17, 21]\n",
            "não é crescente\n"
          ]
        }
      ]
    },
    {
      "cell_type": "markdown",
      "source": [
        ">Assuma que a primeira posição da lista seq (1a carta do baralho) está ordenada;\n",
        ">novo = 2\n",
        ">sabemos que todos os elementos anteriores ao elemento novo estão ordenados\n",
        ">insira o elemento novo (seq[novo]) na posição adequada na sub lista seq[0:novo], e desloque os demais elementos, para obter a lista ordenada até o elemento novo.\n",
        ">incremente novo e repita a partir do passo 3 até o último elemento da lista\n",
        "\n",
        "Insertion Sort\n",
        "\n",
        "\n",
        "\n",
        "\n"
      ],
      "metadata": {
        "id": "-qV98NgtNFbi"
      }
    },
    {
      "cell_type": "code",
      "source": [
        "def main():\n",
        "    seq1 = [1, 2, 3, 5, 4, 7, 11, 3]\n",
        "\n",
        "    print(seq1)\n",
        "    insercao(seq1)\n",
        "    print(seq1)\n",
        "    if not crescente(seq1):\n",
        "        print(\"não \", end='')\n",
        "    print(\"é crescente\")\n",
        "\n",
        "def insercao(seq):\n",
        "    for i in range(1, len(seq)):\n",
        "        chave = seq[i]\n",
        "        j = i - 1\n",
        "        while j >= 0 and chave < seq[j]:\n",
        "            seq[j + 1] = seq[j]\n",
        "            j -= 1\n",
        "        seq[j + 1] = chave\n",
        "\n",
        "def crescente(seq):\n",
        "    for i in range(1, len(seq)):\n",
        "        if seq[i] < seq[i - 1]:\n",
        "            return False\n",
        "    return True\n",
        "\n",
        "if __name__ == \"__main__\":\n",
        "    main()\n"
      ],
      "metadata": {
        "colab": {
          "base_uri": "https://localhost:8080/"
        },
        "id": "0_t1PJrgNCsR",
        "outputId": "65688a2c-d9a4-4a82-e5e8-f4fd8b8fbebd"
      },
      "execution_count": 121,
      "outputs": [
        {
          "output_type": "stream",
          "name": "stdout",
          "text": [
            "[1, 2, 3, 5, 4, 7, 11, 3]\n",
            "[1, 2, 3, 3, 4, 5, 7, 11]\n",
            "é crescente\n"
          ]
        }
      ]
    },
    {
      "cell_type": "markdown",
      "source": [
        ">Escreva a função selecao que implementa esse algoritmo. Uma característica importante para a eficiência de um algoritmo de ordenação é a capacidade de utilizar a mesma lista de entrada, rearranjando os elementos ao invés de criar uma nova lista ordenada.\n",
        "\n",
        "Selection Sort"
      ],
      "metadata": {
        "id": "OOMORjlsODd_"
      }
    },
    {
      "cell_type": "code",
      "source": [
        "def main():\n",
        "    seq1 = [1, 2, 11, 5, 17, 7, 10, 5]\n",
        "\n",
        "    print(seq1)\n",
        "    selecao(seq1)\n",
        "    print(seq1)\n",
        "    if not crescente(seq1):\n",
        "        print(\"não \", end='')\n",
        "    print(\"é crescente\")\n",
        "\n",
        "def selecao(seq):\n",
        "    for i in range(len(seq)):\n",
        "        min_index = i\n",
        "        for j in range(i + 1, len(seq)):\n",
        "            if seq[j] < seq[min_index]:\n",
        "                min_index = j\n",
        "\n",
        "        seq[i], seq[min_index] = seq[min_index], seq[i]\n",
        "\n",
        "def crescente(seq):\n",
        "    for i in range(1, len(seq)):\n",
        "        if seq[i] < seq[i - 1]:\n",
        "            return False\n",
        "    return True\n",
        "\n",
        "if __name__ == \"__main__\":\n",
        "    main()\n"
      ],
      "metadata": {
        "colab": {
          "base_uri": "https://localhost:8080/"
        },
        "id": "SsXzs5LmOeEW",
        "outputId": "24d26748-be71-4a7d-ce4c-7306df541f0e"
      },
      "execution_count": 123,
      "outputs": [
        {
          "output_type": "stream",
          "name": "stdout",
          "text": [
            "[1, 2, 11, 5, 17, 7, 10, 5]\n",
            "[1, 2, 5, 5, 7, 10, 11, 17]\n",
            "é crescente\n"
          ]
        }
      ]
    },
    {
      "cell_type": "markdown",
      "source": [
        ">Escreva a função bolha que implementa esse algoritmo. Uma característica importante para a eficiência de um algoritmo de ordenação é a capacidade de utilizar a mesma lista de entrada, rearranjando os elementos ao invés de criar uma nova lista ordenada.\n",
        "\n",
        "Bubble Sort"
      ],
      "metadata": {
        "id": "Z57A_ebRPA7L"
      }
    },
    {
      "cell_type": "code",
      "source": [
        "def main():\n",
        "    seq1 = [54, 2, 11, 4, 17, 7, 21, 1]\n",
        "\n",
        "    print(seq1)\n",
        "    bolha(seq1)\n",
        "    print(seq1)\n",
        "    if not crescente(seq1):\n",
        "        print(\"nao \", end='')\n",
        "    print(\"crescente\")\n",
        "\n",
        "def bolha(seq):\n",
        "    n = len(seq)\n",
        "    for i in range(n):\n",
        "        for j in range(0, n-i-1):\n",
        "            if seq[j] > seq[j+1]:\n",
        "                seq[j], seq[j+1] = seq[j+1], seq[j]\n",
        "\n",
        "main()\n"
      ],
      "metadata": {
        "colab": {
          "base_uri": "https://localhost:8080/"
        },
        "id": "22syonVHPltG",
        "outputId": "61bbc80a-2e19-4abf-b867-d084104d8b68"
      },
      "execution_count": 127,
      "outputs": [
        {
          "output_type": "stream",
          "name": "stdout",
          "text": [
            "[54, 2, 11, 4, 17, 7, 21, 1]\n",
            "[1, 2, 4, 7, 11, 17, 21, 54]\n",
            "crescente\n"
          ]
        }
      ]
    },
    {
      "cell_type": "code",
      "source": [
        "import random\n",
        "\n",
        "unsorted_list = [random.randint(1, 1000) for _ in range(1007)]\n",
        "\n",
        "def bubble_sort(arr):\n",
        "    n = len(arr)\n",
        "    swapped = True\n",
        "    while n > 1 and swapped:\n",
        "        swapped = False\n",
        "        for i in range(n - 1):\n",
        "            if arr[i] > arr[i + 1]:\n",
        "                arr[i], arr[i + 1] = arr[i + 1], arr[i]\n",
        "                swapped = True\n",
        "        n -= 1\n",
        "\n",
        "\n",
        "if __name__ == \"__main__\":\n",
        "    print(\"Lista não ordenada (primeiros 10 elementos):\", unsorted_list[:20])\n",
        "    bubble_sort(unsorted_list)\n",
        "    print(\"Lista ordenada (primeiros 10 elementos):\", unsorted_list[:10])\n"
      ],
      "metadata": {
        "colab": {
          "base_uri": "https://localhost:8080/"
        },
        "id": "7_A-1w7APvh_",
        "outputId": "095b3a01-d0e3-4a33-83b9-b449b22d3b64"
      },
      "execution_count": 133,
      "outputs": [
        {
          "output_type": "stream",
          "name": "stdout",
          "text": [
            "Lista não ordenada (primeiros 10 elementos): [997, 759, 795, 134, 466, 397, 174, 78, 988, 564, 212, 492, 638, 744, 431, 759, 793, 33, 455, 93]\n",
            "Lista ordenada (primeiros 10 elementos): [1, 1, 1, 3, 4, 4, 4, 5, 5, 6]\n"
          ]
        }
      ]
    }
  ]
}